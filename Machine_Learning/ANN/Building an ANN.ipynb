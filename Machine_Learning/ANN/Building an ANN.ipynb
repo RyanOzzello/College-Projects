{
 "cells": [
  {
   "cell_type": "markdown",
   "metadata": {},
   "source": [
    "# Activity 4: Building an ANN"
   ]
  },
  {
   "cell_type": "code",
   "execution_count": 1,
   "metadata": {},
   "outputs": [],
   "source": [
    "import pandas as pd\n",
    "import numpy as np\n",
    "from sklearn.model_selection import train_test_split\n",
    "from sklearn.utils import shuffle\n",
    "from sklearn.metrics import accuracy_score\n",
    "import torch\n",
    "from torch import nn, optim\n",
    "import torch.nn.functional as F\n",
    "import matplotlib.pyplot as plt"
   ]
  },
  {
   "cell_type": "code",
   "execution_count": 2,
   "metadata": {},
   "outputs": [],
   "source": [
    "# get data\n",
    "data = pd.read_csv('dccc_prepared.csv')"
   ]
  },
  {
   "cell_type": "code",
   "execution_count": 3,
   "metadata": {},
   "outputs": [
    {
     "data": {
      "text/html": [
       "<div>\n",
       "<style scoped>\n",
       "    .dataframe tbody tr th:only-of-type {\n",
       "        vertical-align: middle;\n",
       "    }\n",
       "\n",
       "    .dataframe tbody tr th {\n",
       "        vertical-align: top;\n",
       "    }\n",
       "\n",
       "    .dataframe thead th {\n",
       "        text-align: right;\n",
       "    }\n",
       "</style>\n",
       "<table border=\"1\" class=\"dataframe\">\n",
       "  <thead>\n",
       "    <tr style=\"text-align: right;\">\n",
       "      <th></th>\n",
       "      <th>LIMIT_BAL</th>\n",
       "      <th>EDUCATION</th>\n",
       "      <th>MARRIAGE</th>\n",
       "      <th>AGE</th>\n",
       "      <th>PAY_0</th>\n",
       "      <th>PAY_2</th>\n",
       "      <th>PAY_3</th>\n",
       "      <th>PAY_4</th>\n",
       "      <th>PAY_5</th>\n",
       "      <th>PAY_6</th>\n",
       "      <th>...</th>\n",
       "      <th>BILL_AMT4</th>\n",
       "      <th>BILL_AMT5</th>\n",
       "      <th>BILL_AMT6</th>\n",
       "      <th>PAY_AMT1</th>\n",
       "      <th>PAY_AMT2</th>\n",
       "      <th>PAY_AMT3</th>\n",
       "      <th>PAY_AMT4</th>\n",
       "      <th>PAY_AMT5</th>\n",
       "      <th>PAY_AMT6</th>\n",
       "      <th>default payment next month</th>\n",
       "    </tr>\n",
       "  </thead>\n",
       "  <tbody>\n",
       "    <tr>\n",
       "      <td>0</td>\n",
       "      <td>0.080808</td>\n",
       "      <td>0.333333</td>\n",
       "      <td>0.666667</td>\n",
       "      <td>0.224138</td>\n",
       "      <td>0.2</td>\n",
       "      <td>0.2</td>\n",
       "      <td>0.2</td>\n",
       "      <td>0.2</td>\n",
       "      <td>0.2</td>\n",
       "      <td>0.2</td>\n",
       "      <td>...</td>\n",
       "      <td>0.173637</td>\n",
       "      <td>0.095470</td>\n",
       "      <td>0.272928</td>\n",
       "      <td>0.001738</td>\n",
       "      <td>0.000891</td>\n",
       "      <td>0.001116</td>\n",
       "      <td>0.001610</td>\n",
       "      <td>0.002345</td>\n",
       "      <td>0.009458</td>\n",
       "      <td>0</td>\n",
       "    </tr>\n",
       "    <tr>\n",
       "      <td>1</td>\n",
       "      <td>0.040404</td>\n",
       "      <td>0.333333</td>\n",
       "      <td>0.333333</td>\n",
       "      <td>0.275862</td>\n",
       "      <td>0.2</td>\n",
       "      <td>0.2</td>\n",
       "      <td>0.2</td>\n",
       "      <td>0.2</td>\n",
       "      <td>0.2</td>\n",
       "      <td>0.2</td>\n",
       "      <td>...</td>\n",
       "      <td>0.186809</td>\n",
       "      <td>0.109363</td>\n",
       "      <td>0.283685</td>\n",
       "      <td>0.002290</td>\n",
       "      <td>0.001199</td>\n",
       "      <td>0.001339</td>\n",
       "      <td>0.001771</td>\n",
       "      <td>0.002506</td>\n",
       "      <td>0.001892</td>\n",
       "      <td>0</td>\n",
       "    </tr>\n",
       "    <tr>\n",
       "      <td>2</td>\n",
       "      <td>0.040404</td>\n",
       "      <td>0.333333</td>\n",
       "      <td>0.333333</td>\n",
       "      <td>0.620690</td>\n",
       "      <td>0.1</td>\n",
       "      <td>0.2</td>\n",
       "      <td>0.1</td>\n",
       "      <td>0.2</td>\n",
       "      <td>0.2</td>\n",
       "      <td>0.2</td>\n",
       "      <td>...</td>\n",
       "      <td>0.179863</td>\n",
       "      <td>0.099633</td>\n",
       "      <td>0.275681</td>\n",
       "      <td>0.002290</td>\n",
       "      <td>0.021779</td>\n",
       "      <td>0.011160</td>\n",
       "      <td>0.014493</td>\n",
       "      <td>0.001615</td>\n",
       "      <td>0.001284</td>\n",
       "      <td>0</td>\n",
       "    </tr>\n",
       "    <tr>\n",
       "      <td>3</td>\n",
       "      <td>0.040404</td>\n",
       "      <td>0.166667</td>\n",
       "      <td>0.666667</td>\n",
       "      <td>0.275862</td>\n",
       "      <td>0.2</td>\n",
       "      <td>0.2</td>\n",
       "      <td>0.2</td>\n",
       "      <td>0.2</td>\n",
       "      <td>0.2</td>\n",
       "      <td>0.2</td>\n",
       "      <td>...</td>\n",
       "      <td>0.178407</td>\n",
       "      <td>0.100102</td>\n",
       "      <td>0.276367</td>\n",
       "      <td>0.002862</td>\n",
       "      <td>0.001078</td>\n",
       "      <td>0.000733</td>\n",
       "      <td>0.001610</td>\n",
       "      <td>0.002345</td>\n",
       "      <td>0.001513</td>\n",
       "      <td>0</td>\n",
       "    </tr>\n",
       "    <tr>\n",
       "      <td>4</td>\n",
       "      <td>0.494949</td>\n",
       "      <td>0.166667</td>\n",
       "      <td>0.666667</td>\n",
       "      <td>0.137931</td>\n",
       "      <td>0.2</td>\n",
       "      <td>0.2</td>\n",
       "      <td>0.2</td>\n",
       "      <td>0.2</td>\n",
       "      <td>0.2</td>\n",
       "      <td>0.2</td>\n",
       "      <td>...</td>\n",
       "      <td>0.671310</td>\n",
       "      <td>0.559578</td>\n",
       "      <td>0.625196</td>\n",
       "      <td>0.062961</td>\n",
       "      <td>0.023749</td>\n",
       "      <td>0.042409</td>\n",
       "      <td>0.032591</td>\n",
       "      <td>0.032237</td>\n",
       "      <td>0.026047</td>\n",
       "      <td>0</td>\n",
       "    </tr>\n",
       "  </tbody>\n",
       "</table>\n",
       "<p>5 rows × 23 columns</p>\n",
       "</div>"
      ],
      "text/plain": [
       "   LIMIT_BAL  EDUCATION  MARRIAGE       AGE  PAY_0  PAY_2  PAY_3  PAY_4  \\\n",
       "0   0.080808   0.333333  0.666667  0.224138    0.2    0.2    0.2    0.2   \n",
       "1   0.040404   0.333333  0.333333  0.275862    0.2    0.2    0.2    0.2   \n",
       "2   0.040404   0.333333  0.333333  0.620690    0.1    0.2    0.1    0.2   \n",
       "3   0.040404   0.166667  0.666667  0.275862    0.2    0.2    0.2    0.2   \n",
       "4   0.494949   0.166667  0.666667  0.137931    0.2    0.2    0.2    0.2   \n",
       "\n",
       "   PAY_5  PAY_6  ...  BILL_AMT4  BILL_AMT5  BILL_AMT6  PAY_AMT1  PAY_AMT2  \\\n",
       "0    0.2    0.2  ...   0.173637   0.095470   0.272928  0.001738  0.000891   \n",
       "1    0.2    0.2  ...   0.186809   0.109363   0.283685  0.002290  0.001199   \n",
       "2    0.2    0.2  ...   0.179863   0.099633   0.275681  0.002290  0.021779   \n",
       "3    0.2    0.2  ...   0.178407   0.100102   0.276367  0.002862  0.001078   \n",
       "4    0.2    0.2  ...   0.671310   0.559578   0.625196  0.062961  0.023749   \n",
       "\n",
       "   PAY_AMT3  PAY_AMT4  PAY_AMT5  PAY_AMT6  default payment next month  \n",
       "0  0.001116  0.001610  0.002345  0.009458                           0  \n",
       "1  0.001339  0.001771  0.002506  0.001892                           0  \n",
       "2  0.011160  0.014493  0.001615  0.001284                           0  \n",
       "3  0.000733  0.001610  0.002345  0.001513                           0  \n",
       "4  0.042409  0.032591  0.032237  0.026047                           0  \n",
       "\n",
       "[5 rows x 23 columns]"
      ]
     },
     "execution_count": 3,
     "metadata": {},
     "output_type": "execute_result"
    }
   ],
   "source": [
    "data.head()"
   ]
  },
  {
   "cell_type": "code",
   "execution_count": 4,
   "metadata": {},
   "outputs": [
    {
     "name": "stdout",
     "output_type": "stream",
     "text": [
      "(28036, 22) (28036,) (9346, 22) (9346,) (9346, 22) (9346,)\n"
     ]
    }
   ],
   "source": [
    "# seperate features and label\n",
    "X = data.iloc[:,0:-1]\n",
    "Y = data.iloc[:, -1]\n",
    "\n",
    "# split data\n",
    "x_new, x_test, y_new, y_test = train_test_split(X, Y, test_size=0.20, random_state=0)\n",
    "dev_perc = x_test.shape[0]/x_new.shape[0]\n",
    "x_train, x_dev, y_train, y_dev = train_test_split(x_new, y_new, test_size=dev_perc, random_state=0)\n",
    "print(x_train.shape,y_train.shape, x_dev.shape, y_dev.shape, x_test.shape, y_test.shape)"
   ]
  },
  {
   "cell_type": "code",
   "execution_count": 5,
   "metadata": {},
   "outputs": [],
   "source": [
    "# convert tensor\n",
    "\n",
    "x_dev = torch.Tensor(x_dev.values).float()\n",
    "y_dev = torch.Tensor(y_dev.values).long()\n",
    "\n",
    "x_test = torch.Tensor(x_test.values).float()\n",
    "y_test = torch.Tensor(y_test.values).long()"
   ]
  },
  {
   "cell_type": "code",
   "execution_count": 6,
   "metadata": {},
   "outputs": [],
   "source": [
    "# develop model\n",
    "class SoftmaxClassifier(nn.Module):\n",
    "    def __init__(self, input_size):\n",
    "        super().__init__()\n",
    "        self.hidden1 = nn.Linear(input_size, 10)\n",
    "        self.hidden2 = nn.Linear(10,10)\n",
    "        self.hidden3 = nn.Linear(10, 10)\n",
    "        self.output = nn.Linear(10,2)\n",
    "        \n",
    "    def forward(self, x):\n",
    "        z = F.relu(self.hidden1(x))\n",
    "        z = F.relu(self.hidden2(z))\n",
    "        z = F.relu(self.hidden3(z))\n",
    "        out = F.log_softmax(self.output(z), dim=1)\n",
    "        \n",
    "        return out"
   ]
  },
  {
   "cell_type": "code",
   "execution_count": 7,
   "metadata": {},
   "outputs": [],
   "source": [
    "# setup training variables\n",
    "model = SoftmaxClassifier(x_train.shape[1])\n",
    "criterion = nn.NLLLoss()\n",
    "optimizer = optim.Adam(model.parameters(), lr=0.001)"
   ]
  },
  {
   "cell_type": "code",
   "execution_count": 8,
   "metadata": {},
   "outputs": [
    {
     "name": "stdout",
     "output_type": "stream",
     "text": [
      "e:1/50, Train Loss:0.6649600890549746, Dev Loss:0.6215672492980957, Train Acc:0.6078835227272728, dev_acc:0.6622084314145089\n",
      "e:2/50, Train Loss:0.6081916153430938, Dev Loss:0.6006588935852051, Train Acc:0.6678267045454546, dev_acc:0.6744061630644126\n",
      "e:3/50, Train Loss:0.5924536531621759, Dev Loss:0.5917433500289917, Train Acc:0.6861860795454545, dev_acc:0.689278835865611\n",
      "e:4/50, Train Loss:0.5854694539850408, Dev Loss:0.5885565280914307, Train Acc:0.700497159090909, dev_acc:0.6981596404879092\n",
      "e:5/50, Train Loss:0.5842717938802459, Dev Loss:0.5911300778388977, Train Acc:0.6992542613636363, dev_acc:0.6956986946287181\n",
      "e:6/50, Train Loss:0.5819449752569199, Dev Loss:0.585774838924408, Train Acc:0.7009588068181818, dev_acc:0.6991226193023754\n",
      "e:7/50, Train Loss:0.5811645950783383, Dev Loss:0.5855164527893066, Train Acc:0.7004261363636364, dev_acc:0.6983736357800129\n",
      "e:8/50, Train Loss:0.580653064223853, Dev Loss:0.5844360589981079, Train Acc:0.7014914772727273, dev_acc:0.6976246522576504\n",
      "e:9/50, Train Loss:0.5803242893381553, Dev Loss:0.5850305557250977, Train Acc:0.7020596590909091, dev_acc:0.6979456451958057\n",
      "e:10/50, Train Loss:0.5784160657362505, Dev Loss:0.5829748511314392, Train Acc:0.7033025568181818, dev_acc:0.6985876310721164\n",
      "e:11/50, Train Loss:0.5776854731819846, Dev Loss:0.5821058750152588, Train Acc:0.7031605113636363, dev_acc:0.697303659319495\n",
      "e:12/50, Train Loss:0.5772373618050055, Dev Loss:0.5819154381752014, Train Acc:0.7033380681818182, dev_acc:0.6971966616734432\n",
      "e:13/50, Train Loss:0.5759673889387737, Dev Loss:0.5805637836456299, Train Acc:0.7035866477272728, dev_acc:0.6976246522576504\n",
      "e:14/50, Train Loss:0.575929208099842, Dev Loss:0.5812118053436279, Train Acc:0.7022017045454545, dev_acc:0.6992296169484271\n",
      "e:15/50, Train Loss:0.5764634733850306, Dev Loss:0.5780327320098877, Train Acc:0.7026633522727272, dev_acc:0.6982666381339611\n",
      "e:16/50, Train Loss:0.5749250971458175, Dev Loss:0.5785239934921265, Train Acc:0.7032315340909091, dev_acc:0.6950567087524074\n",
      "e:17/50, Train Loss:0.5741106525063515, Dev Loss:0.5814545750617981, Train Acc:0.703799715909091, dev_acc:0.6982666381339611\n",
      "e:18/50, Train Loss:0.5740726892243732, Dev Loss:0.5756521821022034, Train Acc:0.7033025568181818, dev_acc:0.6994436122405308\n",
      "e:19/50, Train Loss:0.5717485475269231, Dev Loss:0.5761582255363464, Train Acc:0.7071022727272728, dev_acc:0.7005135887010486\n",
      "e:20/50, Train Loss:0.5720602581446821, Dev Loss:0.573552668094635, Train Acc:0.7066761363636364, dev_acc:0.7013695698694629\n",
      "e:21/50, Train Loss:0.5700371105562557, Dev Loss:0.5734561681747437, Train Acc:0.7063210227272727, dev_acc:0.7000855981168415\n",
      "e:22/50, Train Loss:0.5693075357512994, Dev Loss:0.5755917429924011, Train Acc:0.7068536931818182, dev_acc:0.6982666381339611\n",
      "e:23/50, Train Loss:0.5690375603058121, Dev Loss:0.573083758354187, Train Acc:0.7090909090909091, dev_acc:0.6985876310721164\n",
      "e:24/50, Train Loss:0.5692050389268182, Dev Loss:0.5722907185554504, Train Acc:0.7070667613636363, dev_acc:0.700834581639204\n",
      "e:25/50, Train Loss:0.5670193169604648, Dev Loss:0.571724534034729, Train Acc:0.7094105113636363, dev_acc:0.7000855981168415\n",
      "e:26/50, Train Loss:0.5669111961668188, Dev Loss:0.5726491212844849, Train Acc:0.708309659090909, dev_acc:0.6992296169484271\n",
      "e:27/50, Train Loss:0.5697846363891255, Dev Loss:0.5768585205078125, Train Acc:0.7052911931818182, dev_acc:0.7021185533918254\n",
      "e:28/50, Train Loss:0.56737685542215, Dev Loss:0.5717465281486511, Train Acc:0.7064985795454546, dev_acc:0.7032955274983951\n",
      "e:29/50, Train Loss:0.5682167891751636, Dev Loss:0.5704675912857056, Train Acc:0.7066761363636364, dev_acc:0.703830515728654\n",
      "e:30/50, Train Loss:0.5663752536882054, Dev Loss:0.5701577067375183, Train Acc:0.707705965909091, dev_acc:0.6999786004707896\n",
      "e:31/50, Train Loss:0.5653263134035197, Dev Loss:0.569408118724823, Train Acc:0.7083451704545455, dev_acc:0.701262572223411\n",
      "e:32/50, Train Loss:0.5694239445708015, Dev Loss:0.5697671175003052, Train Acc:0.7058948863636364, dev_acc:0.7020115557457736\n",
      "e:33/50, Train Loss:0.5665731412443248, Dev Loss:0.5687563419342041, Train Acc:0.708203125, dev_acc:0.6994436122405308\n",
      "e:34/50, Train Loss:0.5632294382561337, Dev Loss:0.570639431476593, Train Acc:0.7099076704545455, dev_acc:0.6969826663813397\n",
      "e:35/50, Train Loss:0.5645959412509745, Dev Loss:0.5684409141540527, Train Acc:0.7087357954545455, dev_acc:0.7042585063128611\n",
      "e:36/50, Train Loss:0.5643035098910332, Dev Loss:0.5677825212478638, Train Acc:0.7079190340909091, dev_acc:0.7026535416220843\n",
      "e:37/50, Train Loss:0.5631248012185097, Dev Loss:0.5671288967132568, Train Acc:0.7111150568181818, dev_acc:0.7035095227904986\n",
      "e:38/50, Train Loss:0.5640147190202366, Dev Loss:0.569394588470459, Train Acc:0.7085582386363637, dev_acc:0.7007275839931522\n",
      "e:39/50, Train Loss:0.56338447061452, Dev Loss:0.5690543055534363, Train Acc:0.7099076704545455, dev_acc:0.7022255510378772\n",
      "e:40/50, Train Loss:0.5656265472823924, Dev Loss:0.5670865178108215, Train Acc:0.7082741477272727, dev_acc:0.7060774662957415\n",
      "e:41/50, Train Loss:0.5623114585876465, Dev Loss:0.567288875579834, Train Acc:0.7113991477272728, dev_acc:0.7014765675155147\n",
      "e:42/50, Train Loss:0.5613332482901486, Dev Loss:0.5672069191932678, Train Acc:0.7125355113636364, dev_acc:0.7071474427562594\n",
      "e:43/50, Train Loss:0.5665363849564032, Dev Loss:0.566412627696991, Train Acc:0.7094460227272728, dev_acc:0.7028675369141879\n",
      "e:44/50, Train Loss:0.5620411721142855, Dev Loss:0.5664229393005371, Train Acc:0.7133522727272728, dev_acc:0.7027605392681361\n",
      "e:45/50, Train Loss:0.562671276520599, Dev Loss:0.5682850480079651, Train Acc:0.7108309659090909, dev_acc:0.7036165204365504\n",
      "e:46/50, Train Loss:0.5614689809354869, Dev Loss:0.5657843947410583, Train Acc:0.7121803977272727, dev_acc:0.7045794992510165\n",
      "e:47/50, Train Loss:0.5613400105725636, Dev Loss:0.5655842423439026, Train Acc:0.7126420454545455, dev_acc:0.7084314145088808\n",
      "e:48/50, Train Loss:0.5605123831467195, Dev Loss:0.564839243888855, Train Acc:0.7143821022727272, dev_acc:0.704365503958913\n",
      "e:49/50, Train Loss:0.56145325709473, Dev Loss:0.5669484734535217, Train Acc:0.7131392045454545, dev_acc:0.7061844639417932\n",
      "e:50/50, Train Loss:0.5610798166556792, Dev Loss:0.5654328465461731, Train Acc:0.7114346590909091, dev_acc:0.705328482773379\n"
     ]
    }
   ],
   "source": [
    "# train\n",
    "epochs= 50\n",
    "batch_size = 128\n",
    "\n",
    "train_losses, train_acc, dev_losses, dev_acc = [],[],[],[]\n",
    "\n",
    "for e in range(epochs):\n",
    "    x_shuffle, y_shuffle = shuffle(x_train, y_train)\n",
    "    running_loss = 0\n",
    "    running_acc = 0\n",
    "    iterations = 0\n",
    "    for i in range(0, len(x_shuffle), batch_size):\n",
    "        iterations += 1\n",
    "        batch_end = i + batch_size\n",
    "        \n",
    "        # batches\n",
    "        x_batch = torch.Tensor(x_shuffle.iloc[i:batch_end,:].values).float()\n",
    "        y_batch = torch.Tensor(y_shuffle.iloc[i:batch_end].values).long()\n",
    "        \n",
    "        # training\n",
    "        log_ps = model(x_batch)\n",
    "        loss = criterion(log_ps, y_batch)\n",
    "        optimizer.zero_grad()\n",
    "        loss.backward()\n",
    "        optimizer.step()\n",
    "        \n",
    "        running_loss += loss.item()\n",
    "        ps = torch.exp(log_ps)\n",
    "        top_p, top_class = ps.topk(1, dim=1)\n",
    "        running_acc += accuracy_score(y_batch, top_class)\n",
    "        \n",
    "        # dev\n",
    "        with torch.no_grad():\n",
    "            dev_log_ps = model(x_dev)\n",
    "            dev_loss = criterion(dev_log_ps, y_dev)\n",
    "            \n",
    "            dev_ps = torch.exp(dev_log_ps)\n",
    "            dev_top_p, dev_top_class = dev_ps.topk(1, dim=1)\n",
    "            dev_acc_score = accuracy_score(y_dev, dev_top_class)\n",
    "            \n",
    "            # add to lists\n",
    "            train_losses.append(running_loss/iterations)\n",
    "            dev_losses.append(dev_loss)\n",
    "            train_acc.append(running_acc/iterations)\n",
    "            dev_acc.append(dev_acc_score)\n",
    "            \n",
    "    print(f'e:{e+1}/{epochs}, Train Loss:{running_loss/iterations}, Dev Loss:{dev_loss}, Train Acc:{running_acc/iterations}, dev_acc:{dev_acc_score}')"
   ]
  },
  {
   "cell_type": "code",
   "execution_count": 10,
   "metadata": {},
   "outputs": [
    {
     "name": "stdout",
     "output_type": "stream",
     "text": [
      "Final:\n",
      "Train Loss:0.5610798166556792, Dev Loss:0.5654328465461731, Train Acc:0.7114346590909091, dev_acc:0.705328482773379\n"
     ]
    }
   ],
   "source": [
    "print(f'Final:\\nTrain Loss:{train_losses[-1]}, Dev Loss:{dev_losses[-1]}, Train Acc:{train_acc[-1]}, dev_acc:{dev_acc[-1]}')"
   ]
  },
  {
   "cell_type": "code",
   "execution_count": 11,
   "metadata": {
    "scrolled": true
   },
   "outputs": [
    {
     "data": {
      "text/plain": [
       "<matplotlib.legend.Legend at 0x1f942eb8940>"
      ]
     },
     "execution_count": 11,
     "metadata": {},
     "output_type": "execute_result"
    },
    {
     "data": {
      "image/png": "[encoded data removed]",
      "text/plain": [
       "<Figure size 432x288 with 1 Axes>"
      ]
     },
     "metadata": {
      "needs_background": "light"
     },
     "output_type": "display_data"
    }
   ],
   "source": [
    "plt.plot(train_losses, label='Train Losses')\n",
    "plt.plot(dev_losses, label='Dev Losses')\n",
    "plt.legend()"
   ]
  },
  {
   "cell_type": "code",
   "execution_count": 12,
   "metadata": {},
   "outputs": [
    {
     "data": {
      "text/plain": [
       "<matplotlib.legend.Legend at 0x1f942f59a58>"
      ]
     },
     "execution_count": 12,
     "metadata": {},
     "output_type": "execute_result"
    },
    {
     "data": {
      "image/png": "[encoded data removed]",
      "text/plain": [
       "<Figure size 432x288 with 1 Axes>"
      ]
     },
     "metadata": {
      "needs_background": "light"
     },
     "output_type": "display_data"
    }
   ],
   "source": [
    "plt.plot(train_acc, label='Train Acc')\n",
    "plt.plot(dev_acc, label='Dev Acc')\n",
    "plt.legend()"
   ]
  }
 ],
 "metadata": {
  "kernelspec": {
   "display_name": "Python 3",
   "language": "python",
   "name": "python3"
  },
  "language_info": {
   "codemirror_mode": {
    "name": "ipython",
    "version": 3
   },
   "file_extension": ".py",
   "mimetype": "text/x-python",
   "name": "python",
   "nbconvert_exporter": "python",
   "pygments_lexer": "ipython3",
   "version": "3.8.5"
  }
 },
 "nbformat": 4,
 "nbformat_minor": 2
}
