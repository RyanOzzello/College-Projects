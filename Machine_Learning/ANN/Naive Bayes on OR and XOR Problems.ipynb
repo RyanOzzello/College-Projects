{
 "cells": [
  {
   "cell_type": "markdown",
   "metadata": {},
   "source": [
    "# Blog Resources\n",
    "- https://machinelearningmastery.com/classification-as-conditional-probability-and-the-naive-bayes-algorithm/\n",
    "- https://machinelearningmastery.com/naive-bayes-classifier-scratch-python/"
   ]
  },
  {
   "cell_type": "markdown",
   "metadata": {},
   "source": [
    "# Naive Bayes From Scratch On OR and XOR"
   ]
  },
  {
   "cell_type": "code",
   "execution_count": 1,
   "metadata": {},
   "outputs": [],
   "source": [
    "# Example of calculating class probabilities\n",
    "from math import sqrt\n",
    "from math import pi\n",
    "from math import exp\n",
    "import matplotlib.pyplot as plt\n",
    "import copy\n",
    "\n",
    "# Split the dataset by class values, returns a dictionary\n",
    "def separate_by_class(dataset):\n",
    "    separated = dict()\n",
    "    for i in range(len(dataset)):\n",
    "        vector = dataset[i]\n",
    "        class_value = vector[-1]\n",
    "        if (class_value not in separated):\n",
    "            separated[class_value] = list()\n",
    "        separated[class_value].append(vector)\n",
    "    return separated\n",
    " \n",
    "# Calculate the mean of a list of numbers\n",
    "def mean(numbers):\n",
    "    return sum(numbers)/float(len(numbers))\n",
    " \n",
    "# Calculate the standard deviation of a list of numbers\n",
    "def stdev(numbers):\n",
    "    avg = mean(numbers)\n",
    "    variance = sum([(x-avg)**2 for x in numbers]) / float(len(numbers)-1)\n",
    "    return sqrt(variance)\n",
    " \n",
    "# Calculate the mean, stdev and count for each column in a dataset\n",
    "def summarize_dataset(dataset):\n",
    "    summaries = [(mean(column), stdev(column), len(column)) for column in zip(*dataset)]\n",
    "    del(summaries[-1])\n",
    "    return summaries\n",
    " \n",
    "# Split dataset by class then calculate statistics for each row\n",
    "def summarize_by_class(dataset):\n",
    "    separated = separate_by_class(dataset)\n",
    "    summaries = dict()\n",
    "    for class_value, rows in separated.items():\n",
    "        summaries[class_value] = summarize_dataset(rows)\n",
    "    return summaries\n",
    " \n",
    "# Calculate the Gaussian probability distribution function for x\n",
    "def calculate_probability(x, mean, stdev):\n",
    "    exponent = exp(-((x-mean)**2 / (2 * stdev**2 )))\n",
    "    return (1 / (sqrt(2 * pi) * stdev)) * exponent\n",
    " \n",
    "# Calculate the probabilities of predicting each class for a given row\n",
    "def calculate_class_probabilities(summaries, row):\n",
    "    total_rows = sum([summaries[label][0][2] for label in summaries])\n",
    "    probabilities = dict()\n",
    "    for class_value, class_summaries in summaries.items():\n",
    "        probabilities[class_value] = summaries[class_value][0][2]/float(total_rows)\n",
    "        for i in range(len(class_summaries)):\n",
    "            mean, stdev, _ = class_summaries[i]\n",
    "            probabilities[class_value] *= calculate_probability(row[i], mean, stdev)\n",
    "    return probabilities"
   ]
  },
  {
   "cell_type": "code",
   "execution_count": 2,
   "metadata": {},
   "outputs": [],
   "source": [
    "# data\n",
    "dataset_or = [[0.11, 0.12, 0], \n",
    "              [0.12, 0.11, 0], \n",
    "              [0.13, 0.11, 0], \n",
    "              [0.1,  1.1,  1], \n",
    "              [0.12, 1.21, 1], \n",
    "              [0.2,  1.2,  1], \n",
    "              [1.1,  0.1,  1], \n",
    "              [1.2,  0.2,  1], \n",
    "              [1.15, 0.21, 1], \n",
    "              [1.1,  1.2,  1], \n",
    "              [1.2,  1.15, 1], \n",
    "              [1.23, 1.18, 1]]\n",
    "\n",
    "dataset_xor = [[0.11, 0.12, 0], \n",
    "               [0.12, 0.11, 0],\n",
    "               [0.13, 0.11, 0], \n",
    "               [0.1,  1.1,  1],\n",
    "               [0.12, 1.21, 1],\n",
    "               [0.2,  1.2,  1],\n",
    "               [1.1,  0.1,  1], \n",
    "               [1.2,  0.2,  1],\n",
    "               [1.15, 0.21, 1],\n",
    "               [1.1,  1.2,  0],\n",
    "               [1.2,  1.15, 0],\n",
    "               [1.23, 1.18, 0]]"
   ]
  },
  {
   "cell_type": "code",
   "execution_count": 3,
   "metadata": {},
   "outputs": [],
   "source": [
    "def predict_from_scratch(dataset):\n",
    "    preds = []\n",
    "    summaries = summarize_by_class(dataset)\n",
    "    for row in dataset:\n",
    "        prob = calculate_class_probabilities(summaries, row)\n",
    "        if prob[0] > prob[1]:\n",
    "            preds += [0]\n",
    "        else:\n",
    "            preds += [1]\n",
    "    return preds\n",
    "\n",
    "def generate_dataset_pred(dataset, preds):\n",
    "    dataset_pred = copy.deepcopy(dataset)\n",
    "    [c.pop(2) for c in dataset_pred]\n",
    "    dataset_pred = [dataset_pred[i] + [preds[i]] for i in range(len(dataset_pred))]\n",
    "    \n",
    "    return dataset_pred\n",
    "\n",
    "def data_prep_plot(dataset):\n",
    "    sep = separate_by_class(dataset)\n",
    "    sep0 = [column for column in zip(*sep[0])]\n",
    "    sep1 = [column for column in zip(*sep[1])]\n",
    "    x0, y0, _ = sep0\n",
    "    x1, y1, _ = sep1\n",
    "    \n",
    "    return (x0,y0,x1,y1)\n",
    "\n",
    "def plot_data(true, pred):\n",
    "    x0_true ,y0_true ,x1_true ,y1_true = true\n",
    "    x0_pred ,y0_pred ,x1_pred ,y1_pred = pred\n",
    "    \n",
    "    fig, axs = plt.subplots(1, 2)\n",
    "\n",
    "    axs[0].scatter(x0_true,y0_true, c='r', label='0')\n",
    "    axs[0].scatter(x1_true,y1_true, c='b', label='1')\n",
    "    axs[0].set_title('True')\n",
    "    axs[1].scatter(x0_pred,y0_pred, c='r', label='0')\n",
    "    axs[1].scatter(x1_pred,y1_pred, c='b', label='1')\n",
    "    axs[1].set_title('Predicted')\n",
    "    \n",
    "    axs[1].legend(bbox_to_anchor=(1.05, 1.05))\n",
    "    \n",
    "    return ''"
   ]
  },
  {
   "cell_type": "code",
   "execution_count": 4,
   "metadata": {},
   "outputs": [
    {
     "name": "stdout",
     "output_type": "stream",
     "text": [
      "{0: 214.60699433952524, 1: 0.063774509052287} {0: 0.10198682638054953, 1: 0.09935774905624883}\n"
     ]
    }
   ],
   "source": [
    "# test prediction\n",
    "summaries_or = summarize_by_class(dataset_or)\n",
    "summaries_xor = summarize_by_class(dataset_xor)\n",
    "probabilities_or = calculate_class_probabilities(summaries_or, dataset_or[0])\n",
    "probabilities_xor = calculate_class_probabilities(summaries_xor, dataset_xor[0])\n",
    "\n",
    "print(probabilities_or, probabilities_xor)"
   ]
  },
  {
   "cell_type": "code",
   "execution_count": 5,
   "metadata": {},
   "outputs": [],
   "source": [
    "# get all predictions\n",
    "pred_or = predict_from_scratch(dataset_or)\n",
    "pred_xor = predict_from_scratch(dataset_xor)\n",
    "\n",
    "# dataset with new predictions     \n",
    "dataset_or_pred = generate_dataset_pred(dataset_or, pred_or)\n",
    "dataset_xor_pred = generate_dataset_pred(dataset_xor, pred_xor)"
   ]
  },
  {
   "cell_type": "code",
   "execution_count": 6,
   "metadata": {},
   "outputs": [],
   "source": [
    "# prep for plot\n",
    "# true\n",
    "x0_or, y0_or, x1_or, y1_or = data_prep_plot(dataset_or)\n",
    "x0_xor, y0_xor, x1_xor, y1_xor = data_prep_plot(dataset_xor)\n",
    "\n",
    "# pred \n",
    "x0_or_pred, y0_or_pred, x1_or_pred, y1_or_pred = data_prep_plot(dataset_or_pred)\n",
    "x0_xor_pred, y0_xor_pred, x1_xor_pred, y1_xor_pred = data_prep_plot(dataset_xor_pred)\n",
    "\n",
    "#or\n",
    "true_data_or = [x0_or,y0_or,x1_or,y1_or]\n",
    "pred_data_or = [x0_or_pred,y0_or_pred,x1_or_pred,y1_or_pred]\n",
    "\n",
    "#xor\n",
    "true_data_xor = [x0_xor,y0_xor,x1_xor,y1_xor]\n",
    "pred_data_xor = [x0_xor_pred,y0_xor_pred,x1_xor_pred,y1_xor_pred]"
   ]
  },
  {
   "cell_type": "code",
   "execution_count": 7,
   "metadata": {
    "scrolled": true
   },
   "outputs": [
    {
     "name": "stdout",
     "output_type": "stream",
     "text": [
      "OR\n"
     ]
    },
    {
     "data": {
      "text/plain": [
       "''"
      ]
     },
     "execution_count": 7,
     "metadata": {},
     "output_type": "execute_result"
    },
    {
     "data": {
      "image/png": "[encoded data removed]",
      "text/plain": [
       "<Figure size 432x288 with 2 Axes>"
      ]
     },
     "metadata": {
      "needs_background": "light"
     },
     "output_type": "display_data"
    }
   ],
   "source": [
    "print('OR')\n",
    "plot_data(true_data_or, pred_data_or)"
   ]
  },
  {
   "cell_type": "code",
   "execution_count": 8,
   "metadata": {},
   "outputs": [
    {
     "name": "stdout",
     "output_type": "stream",
     "text": [
      "XOR\n"
     ]
    },
    {
     "data": {
      "text/plain": [
       "''"
      ]
     },
     "execution_count": 8,
     "metadata": {},
     "output_type": "execute_result"
    },
    {
     "data": {
      "image/png": "[encoded data removed]",
      "text/plain": [
       "<Figure size 432x288 with 2 Axes>"
      ]
     },
     "metadata": {
      "needs_background": "light"
     },
     "output_type": "display_data"
    }
   ],
   "source": [
    "print('XOR')\n",
    "plot_data(true_data_xor, pred_data_xor)"
   ]
  },
  {
   "cell_type": "markdown",
   "metadata": {},
   "source": [
    "We can see that our XOR prediction is incorrect."
   ]
  },
  {
   "cell_type": "markdown",
   "metadata": {},
   "source": [
    "# Naive Bayes SciPy Model On OR and XOR"
   ]
  },
  {
   "cell_type": "code",
   "execution_count": 9,
   "metadata": {},
   "outputs": [],
   "source": [
    "# example of preparing and making a prediction with a naive bayes model\n",
    "from scipy.stats import norm\n",
    "import numpy as np\n",
    "from numpy import mean\n",
    "from numpy import std\n",
    " \n",
    "# fit a probability distribution to a univariate data sample\n",
    "def fit_distribution(data):\n",
    "    # estimate parameters\n",
    "    mu = mean(data)\n",
    "    sigma = std(data)\n",
    "    print(mu, sigma)\n",
    "    # fit distribution\n",
    "    dist = norm(mu, sigma)\n",
    "    return dist\n",
    " \n",
    "# calculate the independent conditional probability\n",
    "def probability(X, prior, dist1, dist2):\n",
    "    return prior * dist1.pdf(X[0]) * dist2.pdf(X[1])\n",
    "\n",
    "def predict_scipy(dataset):\n",
    "    # prep data\n",
    "    x, y, l =  [col for col in zip(*dataset)]\n",
    "    X = np.array(list(zip(x,y)))\n",
    "    y = np.array(l)\n",
    "    \n",
    "    sep = separate_by_class(dataset)\n",
    "    sep0 = [col for col in zip(*sep[0])]\n",
    "    sep1 = [col for col in zip(*sep[1])]\n",
    "    \n",
    "    Xy0 = np.array(list(zip(sep0[0], sep0[1])))\n",
    "    Xy1 = np.array(list(zip(sep1[0], sep1[1])))\n",
    "    \n",
    "    # stats\n",
    "    # calculate priors or\n",
    "    priory0 = len(Xy0) / len(X)\n",
    "    priory1 = len(Xy1) / len(X)\n",
    "    # create PDFs for y==0\n",
    "    distX1y0 = fit_distribution(Xy0[:, 0])\n",
    "    distX2y0 = fit_distribution(Xy0[:, 1])\n",
    "    # create PDFs for y==1\n",
    "    distX1y1 = fit_distribution(Xy1[:, 0])\n",
    "    distX2y1 = fit_distribution(Xy1[:, 1])\n",
    "    \n",
    "    # pred\n",
    "    \n",
    "    preds = []\n",
    "    \n",
    "    for row in dataset:\n",
    "        py0 = probability(row, priory0, distX1y0, distX2y0)\n",
    "        py1 = probability(row, priory1, distX1y1, distX2y1)\n",
    "        if py0 > py1:\n",
    "            preds += [0]\n",
    "        else:\n",
    "            preds += [1]\n",
    "    \n",
    "    return preds"
   ]
  },
  {
   "cell_type": "code",
   "execution_count": 10,
   "metadata": {},
   "outputs": [
    {
     "name": "stdout",
     "output_type": "stream",
     "text": [
      "0.12 0.008164965809277263\n",
      "0.11333333333333333 0.004714045207910314\n",
      "0.8222222222222223 0.48480873153527204\n",
      "0.8388888888888889 0.4748671029162777\n",
      "0.6483333333333333 0.5298243943882622\n",
      "0.645 0.5318756120247163\n",
      "0.6449999999999999 0.5067461560452794\n",
      "0.67 0.5024606120549816\n"
     ]
    }
   ],
   "source": [
    "# pred\n",
    "pred_or = predict_scipy(dataset_or)\n",
    "pred_xor = predict_scipy(dataset_xor)\n",
    "\n",
    "# data with new pred labels\n",
    "dataset_or_pred = generate_dataset_pred(dataset_or, pred_or)\n",
    "dataset_xor_pred = generate_dataset_pred(dataset_xor, pred_xor)"
   ]
  },
  {
   "cell_type": "code",
   "execution_count": 11,
   "metadata": {},
   "outputs": [],
   "source": [
    "# prep for plot\n",
    "# true\n",
    "x0_or, y0_or, x1_or, y1_or = data_prep_plot(dataset_or)\n",
    "x0_xor, y0_xor, x1_xor, y1_xor = data_prep_plot(dataset_xor)\n",
    "\n",
    "# pred \n",
    "x0_or_pred, y0_or_pred, x1_or_pred, y1_or_pred = data_prep_plot(dataset_or_pred)\n",
    "x0_xor_pred, y0_xor_pred, x1_xor_pred, y1_xor_pred = data_prep_plot(dataset_xor_pred)\n",
    "\n",
    "#or\n",
    "true_data_or = [x0_or,y0_or,x1_or,y1_or]\n",
    "pred_data_or = [x0_or_pred,y0_or_pred,x1_or_pred,y1_or_pred]\n",
    "\n",
    "#xor\n",
    "true_data_xor = [x0_xor,y0_xor,x1_xor,y1_xor]\n",
    "pred_data_xor = [x0_xor_pred,y0_xor_pred,x1_xor_pred,y1_xor_pred]"
   ]
  },
  {
   "cell_type": "code",
   "execution_count": 12,
   "metadata": {
    "scrolled": true
   },
   "outputs": [
    {
     "name": "stdout",
     "output_type": "stream",
     "text": [
      "OR\n"
     ]
    },
    {
     "data": {
      "text/plain": [
       "''"
      ]
     },
     "execution_count": 12,
     "metadata": {},
     "output_type": "execute_result"
    },
    {
     "data": {
      "image/png": "[encoded data removed]",
      "text/plain": [
       "<Figure size 432x288 with 2 Axes>"
      ]
     },
     "metadata": {
      "needs_background": "light"
     },
     "output_type": "display_data"
    }
   ],
   "source": [
    "print('OR')\n",
    "plot_data(true_data_or, pred_data_or)"
   ]
  },
  {
   "cell_type": "code",
   "execution_count": 13,
   "metadata": {},
   "outputs": [
    {
     "name": "stdout",
     "output_type": "stream",
     "text": [
      "XOR\n"
     ]
    },
    {
     "data": {
      "text/plain": [
       "''"
      ]
     },
     "execution_count": 13,
     "metadata": {},
     "output_type": "execute_result"
    },
    {
     "data": {
      "image/png": "[encoded data removed]",
      "text/plain": [
       "<Figure size 432x288 with 2 Axes>"
      ]
     },
     "metadata": {
      "needs_background": "light"
     },
     "output_type": "display_data"
    }
   ],
   "source": [
    "print('XOR')\n",
    "plot_data(true_data_xor, pred_data_xor)"
   ]
  },
  {
   "cell_type": "markdown",
   "metadata": {},
   "source": [
    "# Naive Bayes SKLean Model On OR and XOR"
   ]
  },
  {
   "cell_type": "markdown",
   "metadata": {},
   "source": [
    "## OR"
   ]
  },
  {
   "cell_type": "code",
   "execution_count": 14,
   "metadata": {},
   "outputs": [],
   "source": [
    "# example of gaussian naive bayes\n",
    "from sklearn.datasets import make_blobs\n",
    "from sklearn.naive_bayes import GaussianNB\n",
    "\n",
    "def predict_sklearn(dataset):\n",
    "    # prep data\n",
    "    x, y, l =  [col for col in zip(*dataset)]\n",
    "    X = np.array(list(zip(x,y)))\n",
    "    y = np.array(l)\n",
    "    \n",
    "    # define the model\n",
    "    model = GaussianNB()\n",
    "    # fit the model\n",
    "    model.fit(X, y)\n",
    "\n",
    "    # pred\n",
    "    preds = []\n",
    "    \n",
    "    for row in X:\n",
    "        yhat_prob = model.predict_proba([row])\n",
    "    \n",
    "        if yhat_prob[0][0] > yhat_prob[0][1]:\n",
    "            preds += [0]\n",
    "        else:\n",
    "            preds += [1]\n",
    "    \n",
    "    return preds"
   ]
  },
  {
   "cell_type": "code",
   "execution_count": 19,
   "metadata": {},
   "outputs": [],
   "source": [
    "# get all predictions\n",
    "pred_or = predict_sklearn(dataset_or)\n",
    "pred_xor = predict_sklearn(dataset_xor)\n",
    "\n",
    "# data with new pred labels\n",
    "dataset_or_pred = generate_dataset_pred(dataset_or, pred_or)\n",
    "dataset_xor_pred = generate_dataset_pred(dataset_xor, pred_xor)"
   ]
  },
  {
   "cell_type": "code",
   "execution_count": 20,
   "metadata": {},
   "outputs": [],
   "source": [
    "# prep for plot\n",
    "# true\n",
    "x0_or, y0_or, x1_or, y1_or = data_prep_plot(dataset_or)\n",
    "x0_xor, y0_xor, x1_xor, y1_xor = data_prep_plot(dataset_xor)\n",
    "\n",
    "# pred \n",
    "x0_or_pred, y0_or_pred, x1_or_pred, y1_or_pred = data_prep_plot(dataset_or_pred)\n",
    "x0_xor_pred, y0_xor_pred, x1_xor_pred, y1_xor_pred = data_prep_plot(dataset_xor_pred)\n",
    "\n",
    "#or\n",
    "true_data_or = [x0_or,y0_or,x1_or,y1_or]\n",
    "pred_data_or = [x0_or_pred,y0_or_pred,x1_or_pred,y1_or_pred]\n",
    "\n",
    "#xor\n",
    "true_data_xor = [x0_xor,y0_xor,x1_xor,y1_xor]\n",
    "pred_data_xor = [x0_xor_pred,y0_xor_pred,x1_xor_pred,y1_xor_pred]"
   ]
  },
  {
   "cell_type": "code",
   "execution_count": 21,
   "metadata": {
    "scrolled": true
   },
   "outputs": [
    {
     "name": "stdout",
     "output_type": "stream",
     "text": [
      "OR\n"
     ]
    },
    {
     "data": {
      "text/plain": [
       "''"
      ]
     },
     "execution_count": 21,
     "metadata": {},
     "output_type": "execute_result"
    },
    {
     "data": {
      "image/png": "[encoded data removed]",
      "text/plain": [
       "<Figure size 432x288 with 2 Axes>"
      ]
     },
     "metadata": {
      "needs_background": "light"
     },
     "output_type": "display_data"
    }
   ],
   "source": [
    "print('OR')\n",
    "plot_data(true_data_or, pred_data_or)"
   ]
  },
  {
   "cell_type": "code",
   "execution_count": 22,
   "metadata": {},
   "outputs": [
    {
     "name": "stdout",
     "output_type": "stream",
     "text": [
      "XOR\n"
     ]
    },
    {
     "data": {
      "text/plain": [
       "''"
      ]
     },
     "execution_count": 22,
     "metadata": {},
     "output_type": "execute_result"
    },
    {
     "data": {
      "image/png": "[encoded data removed]",
      "text/plain": [
       "<Figure size 432x288 with 2 Axes>"
      ]
     },
     "metadata": {
      "needs_background": "light"
     },
     "output_type": "display_data"
    }
   ],
   "source": [
    "print('XOR')\n",
    "plot_data(true_data_xor, pred_data_xor)"
   ]
  }
 ],
 "metadata": {
  "kernelspec": {
   "display_name": "Python 3",
   "language": "python",
   "name": "python3"
  },
  "language_info": {
   "codemirror_mode": {
    "name": "ipython",
    "version": 3
   },
   "file_extension": ".py",
   "mimetype": "text/x-python",
   "name": "python",
   "nbconvert_exporter": "python",
   "pygments_lexer": "ipython3",
   "version": "3.8.5"
  }
 },
 "nbformat": 4,
 "nbformat_minor": 2
}
