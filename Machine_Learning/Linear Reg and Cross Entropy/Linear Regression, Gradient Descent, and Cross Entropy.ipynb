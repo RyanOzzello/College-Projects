{
 "cells": [
  {
   "cell_type": "markdown",
   "metadata": {},
   "source": [
    "# Linear Regression, Gradient Descent, and Cross Entropy"
   ]
  },
  {
   "cell_type": "markdown",
   "metadata": {},
   "source": [
    "## Linear Model"
   ]
  },
  {
   "cell_type": "code",
   "execution_count": 1,
   "metadata": {},
   "outputs": [],
   "source": [
    "import numpy as np\n",
    "import matplotlib.pyplot as plt\n",
    "from statsmodels.graphics.gofplots import qqplot\n",
    "from numpy.random import seed\n",
    "\n",
    "seed(1)\n",
    "\n",
    "# MSE\n",
    "def cost_function(x, y, m, b):\n",
    "    N = len(x)\n",
    "    total_error = 0.0\n",
    "    for i in range(N):\n",
    "        total_error += (y[i] - (m*x[i] + b))**2   #y[i]: true y value, m*x[i] + b: predicted y value, error = difference of the two\n",
    "    return total_error / N\n",
    "\n",
    "# Derivative of MSE\n",
    "def update_weights(m, b, X, Y, learning_rate):\n",
    "    m_deriv = 0\n",
    "    b_deriv = 0\n",
    "    N = len(X)\n",
    "    for i in range(N):\n",
    "        # Calculate partial derivatives\n",
    "        # -2x(y - (mx + b))\n",
    "        m_deriv += -2*X[i] * (Y[i] - (m*X[i] + b))\n",
    "        # -2(y - (mx + b))\n",
    "        b_deriv += -2*(Y[i] - (m*X[i] + b))\n",
    "    \n",
    "    # We subtract because the derivatives point in direction of steepest ascent\n",
    "    m -= (m_deriv / float(N)) * learning_rate\n",
    "    b -= (b_deriv / float(N)) * learning_rate\n",
    "\n",
    "    return m, b  \n",
    "\n",
    "# Generate arbitrary data to fit\n",
    "def generate_data(m,b,start,end):\n",
    "    xs = np.array(range(start,end))\n",
    "    ys = m*(xs) + b\n",
    "    return xs,ys\n",
    "\n",
    "# Randomizes generation of parameters to generate data\n",
    "def ini_param(p_range):\n",
    "    m,b = np.random.randint(-p_range,p_range,2)\n",
    "    return m,b\n",
    "\n",
    "def train(m, b, xs, ys, alpha, iterations):\n",
    "    for i in range(iterations):\n",
    "        m, b = update_weights(m,b,xs,ys,alpha)\n",
    "    return m,b\n",
    "\n",
    "def predict_ys(m, b, xs):\n",
    "    y_preds = []\n",
    "    for x in xs:\n",
    "        y = m*x + b\n",
    "        y_preds.append(y)\n",
    "    return y_preds\n",
    "\n",
    "def mean_squared_error(y_preds, y_trues):\n",
    "    return np.square(np.subtract(y_preds, y_trues)).mean()"
   ]
  },
  {
   "cell_type": "markdown",
   "metadata": {},
   "source": [
    "## Define The Linear Model In a Python Class"
   ]
  },
  {
   "cell_type": "code",
   "execution_count": 3,
   "metadata": {},
   "outputs": [
    {
     "name": "stdout",
     "output_type": "stream",
     "text": [
      "PARAMETERS\n",
      "Actual - m,b: 2,1\n",
      "Initial - m,b: 22,-41 - cost: 5604.0\n",
      "Estimate - m,b: 2.100501816091919,0.36979473475724733 - cost: 0.11499524190796909\n",
      "\n",
      "Y VALUES\n",
      "Actual (xs,ys) - [(0, 1.0), (1, 3.0), (2, 5.0), (3, 7.0), (4, 9.0), (5, 11.0), (6, 13.0), (7, 15.0), (8, 17.0), (9, 19.0)]\n",
      "Final Predictions (xs,ys) - [(0, 0.36979473475724733), (1, 2.470296550849166), (2, 4.570798366941085), (3, 6.671300183033004), (4, 8.771801999124923), (5, 10.872303815216842), (6, 12.972805631308761), (7, 15.07330744740068), (8, 17.173809263492597), (9, 19.274311079584518)]\n",
      "MSE: 0.1149952419079691\n",
      "\n"
     ]
    }
   ],
   "source": [
    "# define model   \n",
    "class Linear_Model:\n",
    "    def __init__(self, m, b):\n",
    "        self.m = m\n",
    "        self.b = b\n",
    "\n",
    "    def predict_ys(self, xs):\n",
    "        y_preds = np.array([])\n",
    "        for x in xs:\n",
    "            y = self.m * x + self.b\n",
    "            y_preds = np.append(y_preds, y)\n",
    "        return y_preds\n",
    "\n",
    "# set parameters\n",
    "m_true = 2\n",
    "b_true = 1\n",
    "lr = 0.01\n",
    "iterations = 750\n",
    "p_range = 50\n",
    "\n",
    "#initialize models\n",
    "m,b = ini_param(p_range)\n",
    "true_linear = Linear_Model(m_true,b_true)\n",
    "linear = Linear_Model(m,b)\n",
    "# true data\n",
    "xs = np.array(range(0,10))\n",
    "true_ys = true_linear.predict_ys(xs)\n",
    "\n",
    "# Report Initial\n",
    "print(\"PARAMETERS\")\n",
    "print(f\"Actual - m,b: {true_linear.m},{true_linear.b}\")\n",
    "print(f\"Initial - m,b: {linear.m},{linear.b} - cost: {cost_function(xs,true_ys,linear.m,linear.b)}\")\n",
    "\n",
    "# Train\n",
    "linear.m,linear.b = train(linear.m,linear.b,xs,true_ys,lr,iterations)\n",
    "\n",
    "# Prediction and accuracy\n",
    "preds_ys = linear.predict_ys(xs)\n",
    "MSE = mean_squared_error(preds_ys, true_ys)\n",
    "\n",
    "# Report Final\n",
    "print(f\"Estimate - m,b: {linear.m},{linear.b} - cost: {cost_function(xs,true_ys,linear.m,linear.b)}\")\n",
    "true_xys = zip(xs,true_ys)\n",
    "pred_xys = zip(xs,preds_ys)\n",
    "pred_xys_str = \", \".join(map(str, pred_xys))\n",
    "true_xys_str = \", \".join(map(str, true_xys))\n",
    "print(f\"\\nY VALUES\")\n",
    "print(f\"Actual (xs,ys) - [{true_xys_str}]\")\n",
    "print(f\"Final Predictions (xs,ys) - [{pred_xys_str}]\")\n",
    "print(f\"MSE: {MSE}\\n\")"
   ]
  },
  {
   "cell_type": "markdown",
   "metadata": {},
   "source": [
    "## Gradient Descent Minimizing a Quadratic Function"
   ]
  },
  {
   "cell_type": "code",
   "execution_count": 4,
   "metadata": {
    "scrolled": true
   },
   "outputs": [
    {
     "name": "stdout",
     "output_type": "stream",
     "text": [
      "true (x,y): (0,1)\n",
      "predicted (x,y): (2.102067977781766e-06,1.0000000000044187)\n",
      "\n"
     ]
    }
   ],
   "source": [
    "def find_min_x(starting_x, iterations, learning_rate):\n",
    "    x = starting_x\n",
    "\n",
    "    for i in range(iterations):\n",
    "        x_deriv = 2 * x\n",
    "        # We subtract because the derivatives point in direction of steepest ascent\n",
    "        x -= x_deriv * learning_rate\n",
    "\n",
    "    return x \n",
    "\n",
    "def predict_y(x):\n",
    "    return x * x + 1\n",
    "\n",
    "# min_x = find_min_x(np.random.randint(-p_range,p_range), iterations, lr)\n",
    "min_x = find_min_x(8, iterations, lr)\n",
    "print(f'true (x,y): (0,1)')\n",
    "print(f'predicted (x,y): ({min_x},{predict_y(min_x)})\\n')"
   ]
  },
  {
   "cell_type": "markdown",
   "metadata": {},
   "source": [
    "## Cross Entropy Method Implementation"
   ]
  },
  {
   "cell_type": "code",
   "execution_count": 6,
   "metadata": {},
   "outputs": [
    {
     "name": "stdout",
     "output_type": "stream",
     "text": [
      "true mean: 2\n",
      "estimate mean: 1.9849102141201271\n"
     ]
    }
   ],
   "source": [
    "# Initialize parameters\n",
    "μ = 10\n",
    "σ2 = 100\n",
    "t = 0\n",
    "maxits = 1000\n",
    "N = 100\n",
    "Ne = 10\n",
    "# While maxits not exceeded and not converged\n",
    "while t < maxits and σ2 > 0.001:\n",
    "    # Obtain N samples from current sampling distribution\n",
    "    X = np.random.normal(μ, σ2, N)\n",
    "    # Evaluate objective function at sampled points\n",
    "    S = np.exp(-(X - 2)**2) + 0.8 * np.exp(-(X + 2)**2)\n",
    "    # Sort X by objective function values in descending order\n",
    "    zipped_lists = zip(S,X)\n",
    "    sorted_zipped_lists = sorted(zipped_lists, reverse=True)\n",
    "    sorted_list_X = [element for _, element in sorted_zipped_lists]\n",
    "    # Update parameters of sampling distribution                  \n",
    "    μ = np.mean(sorted_list_X[0:Ne])\n",
    "    σ2 = np.var(sorted_list_X[0:Ne])\n",
    "    t = t + 1\n",
    "# Return mean of final sampling distribution as solution\n",
    "print('true mean: 2')\n",
    "print(f'estimate mean: {np.mean(X)}')"
   ]
  }
 ],
 "metadata": {
  "kernelspec": {
   "display_name": "Python 3",
   "language": "python",
   "name": "python3"
  },
  "language_info": {
   "codemirror_mode": {
    "name": "ipython",
    "version": 3
   },
   "file_extension": ".py",
   "mimetype": "text/x-python",
   "name": "python",
   "nbconvert_exporter": "python",
   "pygments_lexer": "ipython3",
   "version": "3.7.3"
  }
 },
 "nbformat": 4,
 "nbformat_minor": 4
}
