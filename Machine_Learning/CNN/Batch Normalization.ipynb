{
 "cells": [
  {
   "cell_type": "markdown",
   "metadata": {},
   "source": [
    "# Batch Normalization Activity 9 Chapter 4 "
   ]
  },
  {
   "cell_type": "code",
   "execution_count": 1,
   "metadata": {},
   "outputs": [],
   "source": [
    "import numpy as np\n",
    "import torch\n",
    "from torch import nn, optim\n",
    "import torch.nn.functional as F\n",
    "from torchvision import datasets\n",
    "import torchvision.transforms as transforms\n",
    "from torch.utils.data.sampler import SubsetRandomSampler\n",
    "from sklearn.metrics import accuracy_score\n",
    "import matplotlib.pyplot as plt"
   ]
  },
  {
   "cell_type": "code",
   "execution_count": 2,
   "metadata": {},
   "outputs": [],
   "source": [
    "transform = {\n",
    "    \"train\": transforms.Compose([\n",
    "        transforms.RandomHorizontalFlip(0.5), \n",
    "        transforms.RandomGrayscale(0.1),\n",
    "        transforms.ToTensor(),\n",
    "        transforms.Normalize((0.5, 0.5, 0.5), (0.5, 0.5, 0.5))]),\n",
    "    \"test\": transforms.Compose([\n",
    "        transforms.ToTensor(),\n",
    "        transforms.Normalize((0.5, 0.5, 0.5), (0.5, 0.5, 0.5))])}"
   ]
  },
  {
   "cell_type": "code",
   "execution_count": 3,
   "metadata": {},
   "outputs": [
    {
     "name": "stdout",
     "output_type": "stream",
     "text": [
      "Files already downloaded and verified\n",
      "Files already downloaded and verified\n"
     ]
    }
   ],
   "source": [
    "batch_size = 100\n",
    "\n",
    "train_data = datasets.CIFAR10('data2', train=True, download=True, transform=transform[\"train\"])\n",
    "test_data = datasets.CIFAR10('data2', train=False, download=True, transform=transform[\"test\"])"
   ]
  },
  {
   "cell_type": "code",
   "execution_count": 4,
   "metadata": {},
   "outputs": [],
   "source": [
    "dev_size = 0.2\n",
    "idx = list(range(len(train_data)))\n",
    "np.random.shuffle(idx)\n",
    "split_size = int(np.floor(dev_size * len(train_data)))\n",
    "train_idx, dev_idx = idx[split_size:], idx[:split_size]\n",
    "\n",
    "train_sampler = SubsetRandomSampler(train_idx)\n",
    "dev_sampler = SubsetRandomSampler(dev_idx)"
   ]
  },
  {
   "cell_type": "code",
   "execution_count": 5,
   "metadata": {},
   "outputs": [],
   "source": [
    "train_loader = torch.utils.data.DataLoader(train_data, batch_size=batch_size, sampler=train_sampler)\n",
    "dev_loader = torch.utils.data.DataLoader(train_data, batch_size=batch_size, sampler=dev_sampler)\n",
    "test_loader = torch.utils.data.DataLoader(test_data, batch_size=batch_size)"
   ]
  },
  {
   "cell_type": "markdown",
   "metadata": {},
   "source": [
    "# Batch Normalization\n",
    "## Problem Statement\n",
    "Input images often have values that come from different scales or distributions. This can negatively impact performance since images of the same object, maybe an animal, can have different colors or distributions of color causing models to perform poorly. \n",
    "## Solution Statement\n",
    "By normalizing values coming from the input layer and also the outputs of hidden layers, we can reduce variance and make more even level comparisons. Other benefits include:\n",
    "- Since outputs values are being controlled we can take advantage of higher learning rates.\n",
    "- This helps reduce overfitting since it has a regularization effect meaning we can reduce our dropout probability and not ignore information from pass to pass.\n",
    "\n",
    "## Questions\n",
    "- What is the difference between BatchNorm1d and 2d?\n",
    "  - 1D takes input data over 2 or 3 dimensions, also stated as a mini-batch of 1D input with and optional additional channel dimension. So NxCxW (N: batch size, C: number of channels, W: width of 1D data)\n",
    "  - 2D takes input data over 4D inputs, also stated as a mini-batch of 2D input with an additional channel dimension. So NxCxWxH (N: batch size, C: number of channels, W: width of 2D data, H: height of 2D data)"
   ]
  },
  {
   "cell_type": "code",
   "execution_count": 6,
   "metadata": {},
   "outputs": [],
   "source": [
    "class CNN(nn.Module):\n",
    "    def __init__(self):\n",
    "        super(CNN, self).__init__()\n",
    "        self.conv1 = nn.Conv2d(3, 10, 3, 1, 1)\n",
    "        self.norm1 = nn.BatchNorm2d(10)\n",
    "        self.conv2 = nn.Conv2d(10, 20, 3, 1, 1)\n",
    "        self.norm2 = nn.BatchNorm2d(20)\n",
    "        self.conv3 = nn.Conv2d(20, 40, 3, 1, 1)\n",
    "        self.norm3 = nn.BatchNorm2d(40)\n",
    "        \n",
    "        self.pool = nn.MaxPool2d(2, 2)\n",
    "        \n",
    "        self.linear1 = nn.Linear(40 * 4 * 4, 100)\n",
    "        self.norm4 = nn.BatchNorm1d(100)\n",
    "        self.linear2 = nn.Linear(100, 10)\n",
    "        self.dropout = nn.Dropout(0.2)\n",
    "\n",
    "    def forward(self, x):\n",
    "        x = self.pool(self.norm1(F.relu(self.conv1(x))))\n",
    "        x = self.pool(self.norm2(F.relu(self.conv2(x))))\n",
    "        x = self.pool(self.norm3(F.relu(self.conv3(x))))\n",
    "        \n",
    "        x = x.view(-1, 40 * 4 * 4)\n",
    "        x = self.dropout(x)\n",
    "        x = self.norm4(F.relu(self.linear1(x)))\n",
    "        x = self.dropout(x)\n",
    "        x = F.log_softmax(self.linear2(x), dim=1)\n",
    "        \n",
    "        return x"
   ]
  },
  {
   "cell_type": "code",
   "execution_count": 7,
   "metadata": {},
   "outputs": [],
   "source": [
    "model = CNN()\n",
    "loss_function = nn.NLLLoss()\n",
    "optimizer = optim.Adam(model.parameters(), lr=0.001)\n",
    "epochs = 100"
   ]
  },
  {
   "cell_type": "code",
   "execution_count": 8,
   "metadata": {},
   "outputs": [
    {
     "name": "stdout",
     "output_type": "stream",
     "text": [
      "Epoch: 1/100..  Training Loss: 1.456..  Validation Loss: 1.168..  Training Accuracy: 0.477..  Validation Accuracy: 0.584\n",
      "Epoch: 5/100..  Training Loss: 0.920..  Validation Loss: 0.886..  Training Accuracy: 0.678..  Validation Accuracy: 0.685\n",
      "Epoch: 10/100..  Training Loss: 0.787..  Validation Loss: 0.780..  Training Accuracy: 0.722..  Validation Accuracy: 0.728\n",
      "Epoch: 15/100..  Training Loss: 0.725..  Validation Loss: 0.721..  Training Accuracy: 0.746..  Validation Accuracy: 0.746\n",
      "Epoch: 20/100..  Training Loss: 0.688..  Validation Loss: 0.712..  Training Accuracy: 0.761..  Validation Accuracy: 0.752\n",
      "Epoch: 25/100..  Training Loss: 0.660..  Validation Loss: 0.663..  Training Accuracy: 0.767..  Validation Accuracy: 0.770\n",
      "Epoch: 30/100..  Training Loss: 0.632..  Validation Loss: 0.655..  Training Accuracy: 0.779..  Validation Accuracy: 0.771\n",
      "Epoch: 35/100..  Training Loss: 0.615..  Validation Loss: 0.671..  Training Accuracy: 0.782..  Validation Accuracy: 0.763\n",
      "Epoch: 40/100..  Training Loss: 0.603..  Validation Loss: 0.654..  Training Accuracy: 0.788..  Validation Accuracy: 0.774\n",
      "Epoch: 45/100..  Training Loss: 0.584..  Validation Loss: 0.675..  Training Accuracy: 0.795..  Validation Accuracy: 0.763\n",
      "Epoch: 50/100..  Training Loss: 0.571..  Validation Loss: 0.664..  Training Accuracy: 0.797..  Validation Accuracy: 0.769\n",
      "Epoch: 55/100..  Training Loss: 0.570..  Validation Loss: 0.663..  Training Accuracy: 0.799..  Validation Accuracy: 0.768\n",
      "Epoch: 60/100..  Training Loss: 0.558..  Validation Loss: 0.644..  Training Accuracy: 0.802..  Validation Accuracy: 0.777\n",
      "Epoch: 65/100..  Training Loss: 0.554..  Validation Loss: 0.649..  Training Accuracy: 0.804..  Validation Accuracy: 0.774\n",
      "Epoch: 70/100..  Training Loss: 0.542..  Validation Loss: 0.647..  Training Accuracy: 0.807..  Validation Accuracy: 0.773\n",
      "Epoch: 75/100..  Training Loss: 0.543..  Validation Loss: 0.630..  Training Accuracy: 0.808..  Validation Accuracy: 0.781\n",
      "Epoch: 80/100..  Training Loss: 0.534..  Validation Loss: 0.635..  Training Accuracy: 0.812..  Validation Accuracy: 0.782\n",
      "Epoch: 85/100..  Training Loss: 0.525..  Validation Loss: 0.634..  Training Accuracy: 0.812..  Validation Accuracy: 0.782\n",
      "Epoch: 90/100..  Training Loss: 0.517..  Validation Loss: 0.633..  Training Accuracy: 0.817..  Validation Accuracy: 0.784\n",
      "Epoch: 95/100..  Training Loss: 0.520..  Validation Loss: 0.622..  Training Accuracy: 0.814..  Validation Accuracy: 0.785\n",
      "Epoch: 100/100..  Training Loss: 0.516..  Validation Loss: 0.643..  Training Accuracy: 0.817..  Validation Accuracy: 0.782\n"
     ]
    }
   ],
   "source": [
    "train_losses, dev_losses, train_acc, dev_acc= [], [], [], []\n",
    "x_axis = []\n",
    "\n",
    "for e in range(1, epochs+1):\n",
    "    losses = 0\n",
    "    acc = 0\n",
    "    iterations = 0\n",
    "    \n",
    "    model.train()\n",
    "    for data, target in train_loader:\n",
    "        iterations += 1\n",
    "\n",
    "        pred = model(data)\n",
    "        loss = loss_function(pred, target)\n",
    "        optimizer.zero_grad()\n",
    "        loss.backward()\n",
    "        optimizer.step()\n",
    "        \n",
    "        losses += loss.item()\n",
    "        p = torch.exp(pred)\n",
    "        top_p, top_class = p.topk(1, dim=1)\n",
    "        acc += accuracy_score(target, top_class)\n",
    "        \n",
    "    dev_losss = 0\n",
    "    dev_accs = 0\n",
    "    iter_2 = 0\n",
    "        \n",
    "    if e%5 == 0 or e == 1:\n",
    "        x_axis.append(e)\n",
    "        \n",
    "        with torch.no_grad():\n",
    "            model.eval()\n",
    "            \n",
    "            for data_dev, target_dev in dev_loader:\n",
    "                iter_2 += 1\n",
    "                \n",
    "                dev_pred = model(data_dev)\n",
    "                dev_loss = loss_function(dev_pred, target_dev)\n",
    "                dev_losss += dev_loss.item()\n",
    "\n",
    "                dev_p = torch.exp(dev_pred)\n",
    "                top_p, dev_top_class = dev_p.topk(1, dim=1)\n",
    "                dev_accs += accuracy_score(target_dev, dev_top_class)\n",
    "        \n",
    "        train_losses.append(losses/iterations)\n",
    "        dev_losses.append(dev_losss/iter_2)\n",
    "        train_acc.append(acc/iterations)\n",
    "        dev_acc.append(dev_accs/iter_2)\n",
    "        \n",
    "        print(\"Epoch: {}/{}.. \".format(e, epochs),\n",
    "              \"Training Loss: {:.3f}.. \".format(losses/iterations),\n",
    "              \"Validation Loss: {:.3f}.. \".format(dev_losss/iter_2),\n",
    "              \"Training Accuracy: {:.3f}.. \".format(acc/iterations),\n",
    "              \"Validation Accuracy: {:.3f}\".format(dev_accs/iter_2))"
   ]
  },
  {
   "cell_type": "code",
   "execution_count": 9,
   "metadata": {},
   "outputs": [
    {
     "data": {
      "image/png": "[encoded data removed]",
      "text/plain": [
       "<Figure size 432x288 with 1 Axes>"
      ]
     },
     "metadata": {
      "needs_background": "light"
     },
     "output_type": "display_data"
    }
   ],
   "source": [
    "plt.plot(x_axis,train_losses, label='Training loss')\n",
    "plt.plot(x_axis, dev_losses, label='Validation loss')\n",
    "plt.legend(frameon=False)\n",
    "plt.show()"
   ]
  },
  {
   "cell_type": "code",
   "execution_count": 10,
   "metadata": {},
   "outputs": [
    {
     "data": {
      "image/png": "[encoded data removed]",
      "text/plain": [
       "<Figure size 432x288 with 1 Axes>"
      ]
     },
     "metadata": {
      "needs_background": "light"
     },
     "output_type": "display_data"
    }
   ],
   "source": [
    "plt.plot(x_axis, train_acc, label=\"Training accuracy\")\n",
    "plt.plot(x_axis, dev_acc, label=\"Validation accuracy\")\n",
    "plt.legend(frameon=False)\n",
    "plt.show()"
   ]
  },
  {
   "cell_type": "code",
   "execution_count": 11,
   "metadata": {},
   "outputs": [
    {
     "name": "stdout",
     "output_type": "stream",
     "text": [
      "0.7805999999999998\n"
     ]
    }
   ],
   "source": [
    "model.eval()\n",
    "iter_3 = 0\n",
    "acc_test = 0\n",
    "for data_test, target_test in test_loader:\n",
    "    iter_3 += 1\n",
    "    test_pred = model(data_test)\n",
    "    test_pred = torch.exp(test_pred)\n",
    "    top_p, top_class_test = test_pred.topk(1, dim=1)\n",
    "    acc_test += accuracy_score(target_test, top_class_test)\n",
    "print(acc_test/iter_3)"
   ]
  },
  {
   "cell_type": "code",
   "execution_count": null,
   "metadata": {},
   "outputs": [],
   "source": []
  }
 ],
 "metadata": {
  "kernelspec": {
   "display_name": "Python 3",
   "language": "python",
   "name": "python3"
  },
  "language_info": {
   "codemirror_mode": {
    "name": "ipython",
    "version": 3
   },
   "file_extension": ".py",
   "mimetype": "text/x-python",
   "name": "python",
   "nbconvert_exporter": "python",
   "pygments_lexer": "ipython3",
   "version": "3.8.5"
  }
 },
 "nbformat": 4,
 "nbformat_minor": 2
}
