{
 "cells": [
  {
   "cell_type": "markdown",
   "metadata": {},
   "source": [
    "# Linear Regression"
   ]
  },
  {
   "cell_type": "markdown",
   "metadata": {},
   "source": [
    "## Model"
   ]
  },
  {
   "cell_type": "code",
   "execution_count": 1,
   "metadata": {},
   "outputs": [],
   "source": [
    "import numpy as np\n",
    "import matplotlib.pyplot as plt\n",
    "from statsmodels.graphics.gofplots import qqplot\n",
    "from numpy.random import seed\n",
    "\n",
    "seed(1)\n",
    "\n",
    "# MSE\n",
    "def cost_function(x, y, m, b):\n",
    "    N = len(x)\n",
    "    total_error = 0.0\n",
    "    for i in range(N):\n",
    "        total_error += (y[i] - (m*x[i] + b))**2   #y[i]: true y value, m*x[i] + b: predicted y value, error = difference of the two\n",
    "    return total_error / N\n",
    "\n",
    "# Derivative of MSE\n",
    "def update_weights(m, b, X, Y, learning_rate):\n",
    "    m_deriv = 0\n",
    "    b_deriv = 0\n",
    "    N = len(X)\n",
    "    for i in range(N):\n",
    "        # Calculate partial derivatives\n",
    "        # -2x(y - (mx + b))\n",
    "        m_deriv += -2*X[i] * (Y[i] - (m*X[i] + b))\n",
    "        # -2(y - (mx + b))\n",
    "        b_deriv += -2*(Y[i] - (m*X[i] + b))\n",
    "    \n",
    "    # We subtract because the derivatives point in direction of steepest ascent\n",
    "    m -= (m_deriv / float(N)) * learning_rate\n",
    "    b -= (b_deriv / float(N)) * learning_rate\n",
    "\n",
    "    return m, b  \n",
    "\n",
    "# Generate arbitrary data to fit\n",
    "def generate_data(m,b,start,end):\n",
    "    xs = np.array(range(start,end))\n",
    "    ys = m*(xs) + b\n",
    "    return xs,ys\n",
    "\n",
    "# Randomizes generation of parameters to generate data\n",
    "def ini_param(p_range):\n",
    "    m,b = np.random.randint(-p_range,p_range,2)\n",
    "    return m,b\n",
    "\n",
    "def train(m, b, xs, ys, alpha, iterations):\n",
    "    for i in range(iterations):\n",
    "        m, b = update_weights(m,b,xs,ys,alpha)\n",
    "    return m,b\n",
    "\n",
    "def predict_ys(m, b, xs):\n",
    "    y_preds = []\n",
    "    for x in xs:\n",
    "        y = m*x + b\n",
    "        y_preds.append(y)\n",
    "    return y_preds\n",
    "\n",
    "def mean_squared_error(y_preds, y_trues):\n",
    "    return np.square(np.subtract(y_preds, y_trues)).mean()\n",
    "\n",
    "def mean_error(y_preds, y_trues):\n",
    "    return (np.subtract(y_preds, y_trues)).mean()"
   ]
  },
  {
   "cell_type": "markdown",
   "metadata": {},
   "source": [
    "## Estimate Parameters\n",
    " We use toy linear data with preset m and b values to train our model with starting from randomized estimates. We notice the estimates approach the actual values of m and b using gradient descent."
   ]
  },
  {
   "cell_type": "code",
   "execution_count": 10,
   "metadata": {
    "scrolled": true
   },
   "outputs": [
    {
     "name": "stdout",
     "output_type": "stream",
     "text": [
      "PARAMETERS\n",
      "Actual - m,b: 2,1\n",
      "Initial - m,b: 2,42 - cost: 1681.0\n",
      "Estimate - m,b: 1.9088156552382103,1.5717792614218338 - cost: 0.09466133287658043\n",
      "\n",
      "Y VALUES\n",
      "Actual (xs,ys) - [(0, 1), (1, 3), (2, 5), (3, 7), (4, 9), (5, 11), (6, 13), (7, 15), (8, 17), (9, 19)]\n",
      "Final Predictions (xs,ys) - [(0, 1.5717792614218338), (1, 3.480594916660044), (2, 5.389410571898255), (3, 7.298226227136465), (4, 9.207041882374675), (5, 11.115857537612886), (6, 13.024673192851097), (7, 14.933488848089304), (8, 16.842304503327515), (9, 18.751120158565726)]\n",
      "MSE: 0.09466133287658043\n",
      "\n"
     ]
    }
   ],
   "source": [
    "# Intialize parameters and data    \n",
    "m_true = 2\n",
    "b_true = 1\n",
    "xs,ys = generate_data(m_true,b_true,0,10)\n",
    "lr = 0.01\n",
    "iterations = 750\n",
    "p_range = 50\n",
    "m,b = ini_param(p_range)\n",
    "\n",
    "# Report Initial\n",
    "print(\"PARAMETERS\")\n",
    "print(f\"Actual - m,b: {m_true},{b_true}\")\n",
    "print(f\"Initial - m,b: {m},{b} - cost: {cost_function(xs,ys,m,b)}\")\n",
    "\n",
    "# Train\n",
    "m,b = train(m,b,xs,ys,lr,iterations)\n",
    "\n",
    "# Prediction and accuracy\n",
    "preds_ys = predict_ys(m,b,xs)\n",
    "MSE = mean_squared_error(preds_ys, ys)\n",
    "\n",
    "# Report Final\n",
    "print(f\"Estimate - m,b: {m},{b} - cost: {cost_function(xs,ys,m,b)}\")\n",
    "trues = zip(xs,ys)\n",
    "preds = zip(xs,preds_ys)\n",
    "preds_str = \", \".join(map(str, preds))\n",
    "trues_str = \", \".join(map(str, trues))\n",
    "print(f\"\\nY VALUES\")\n",
    "print(f\"Actual (xs,ys) - [{trues_str}]\")\n",
    "print(f\"Final Predictions (xs,ys) - [{preds_str}]\")\n",
    "print(f\"MSE: {MSE}\\n\")"
   ]
  },
  {
   "cell_type": "markdown",
   "metadata": {},
   "source": [
    "# Confidence Intervals For Our Parameter Estimates\n",
    "We can use confidence intervals to understand the distribution of test performance over 100 trials."
   ]
  },
  {
   "cell_type": "code",
   "execution_count": 11,
   "metadata": {},
   "outputs": [
    {
     "name": "stdout",
     "output_type": "stream",
     "text": [
      "95.0 Confidence Interval\n",
      "m: 1.90 and 2.11\n",
      "b: 0.29 and 1.64\n",
      "90.0 Confidence Interval\n",
      "m: 1.90 and 2.11\n",
      "b: 0.34 and 1.63\n",
      "85.0 Confidence Interval\n",
      "m: 1.90 and 2.10\n",
      "b: 0.36 and 1.61\n",
      "80.0 Confidence Interval\n",
      "m: 1.91 and 2.10\n",
      "b: 0.39 and 1.59\n"
     ]
    }
   ],
   "source": [
    "# 100 samples of m and b predictions\n",
    "m_stats = np.array([],dtype=\"int32\")\n",
    "b_stats = np.array([],dtype=\"int32\")\n",
    "for i in range(100):\n",
    "    m,b = ini_param(p_range)\n",
    "    m,b = train(m,b,xs,ys,lr,iterations)\n",
    "    m_stats = np.append(m_stats,m)\n",
    "    b_stats = np.append(b_stats,b)\n",
    "\n",
    "# confidence intervals\n",
    "alphas = np.array([0.95,.9,.85,.8])\n",
    "for alpha in alphas:\n",
    "    print(f'{alpha*100} Confidence Interval')\n",
    "    p_lower = ((1.0-alpha)/2.0) * 100\n",
    "    p_upper = (alpha+((1.0-alpha)/2.0)) * 100\n",
    "\n",
    "    m_lower = np.percentile(m_stats, p_lower)\n",
    "    m_upper = np.percentile(m_stats, p_upper)\n",
    "    print(f'm: {m_lower:.2f} and {m_upper:.2f}')\n",
    "\n",
    "    b_lower = np.percentile(b_stats, p_lower)\n",
    "    b_upper = np.percentile(b_stats, p_upper)\n",
    "    print(f'b: {b_lower:.2f} and {b_upper:.2f}')"
   ]
  },
  {
   "cell_type": "markdown",
   "metadata": {},
   "source": [
    "## Normalcy Testing\n",
    "We can see if our estimates of the linear parameters are normally distributed with various methods. By collecting estimates we can visualize the distribution with histogram or a QQ plot, or also use various statistical tests for normalcy such as Shapiro, D’Agostino’s K^2, and Anderson-Darling."
   ]
  },
  {
   "cell_type": "code",
   "execution_count": 13,
   "metadata": {},
   "outputs": [
    {
     "data": {
      "image/png": "[encoded data removed]",
      "text/plain": [
       "<Figure size 432x288 with 1 Axes>"
      ]
     },
     "metadata": {
      "needs_background": "light"
     },
     "output_type": "display_data"
    },
    {
     "name": "stdout",
     "output_type": "stream",
     "text": [
      "Histogram does not look Gaussian\n"
     ]
    },
    {
     "data": {
      "image/png": "[encoded data removed]",
      "text/plain": [
       "<Figure size 432x288 with 1 Axes>"
      ]
     },
     "metadata": {
      "needs_background": "light"
     },
     "output_type": "display_data"
    },
    {
     "name": "stdout",
     "output_type": "stream",
     "text": [
      "QQ Plot does not look Gaussian\n",
      "Shapiro: Statistics=0.967, p=0.000\n",
      "\tSample does not look Gaussian (reject H0)\n",
      "D’Agostino’s K^2: Statistics=378.260, p=0.000\n",
      "\tSample does not look Gaussian (reject H0)\n",
      "Anderson-Darling: Statistic= 8.849\n",
      "\t15.000 0.574, data does not look normal (reject H0)\n",
      "\t10.000 0.653, data does not look normal (reject H0)\n",
      "\t5.000 0.784, data does not look normal (reject H0)\n",
      "\t2.500 0.914, data does not look normal (reject H0)\n",
      "\t1.000 1.088, data does not look normal (reject H0)\n"
     ]
    }
   ],
   "source": [
    "# This one takes a little while to run\n",
    "# Collect 1000 accuracies of 1000 different m and b predictions. \n",
    "error_stats = np.array([],dtype=\"int32\")\n",
    "for i in range(1000):\n",
    "    m,b = ini_param(p_range)\n",
    "    m,b = train(m,b,xs,ys,lr,iterations)\n",
    "    preds_ys = predict_ys(m,b,xs)\n",
    "    # not MSE since squaring makes errors all positive. We want to see full distribution from positive to negative\n",
    "    ME = mean_error(preds_ys, ys)\n",
    "    error_stats = np.append(error_stats,ME)\n",
    "\n",
    "# Visualize Distribution\n",
    "plt.hist(error_stats,15)\n",
    "plt.show()\n",
    "print('Histogram does not look Gaussian')\n",
    "\n",
    "# QQ Plot\n",
    "qqplot(error_stats, line='s')\n",
    "plt.show()\n",
    "print('QQ Plot does not look Gaussian')\n",
    "\n",
    "# Statistical Normality Tests\n",
    "from scipy.stats import shapiro\n",
    "stat, p = shapiro(error_stats)\n",
    "print(f'Shapiro: Statistics={stat:.3f}, p={p:.3f}')\n",
    "# interpret\n",
    "alpha = 0.05\n",
    "if p > alpha:\n",
    "\tprint(f'\\tSample looks Gaussian (fail to reject H0)')\n",
    "else:\n",
    "\tprint(f'\\tSample does not look Gaussian (reject H0)')\n",
    "\n",
    "from scipy.stats import normaltest\n",
    "# normality test\n",
    "stat, p = normaltest(error_stats)\n",
    "print(f'D’Agostino’s K^2: Statistics={stat:.3f}, p={p:.3f}')\n",
    "# interpret\n",
    "alpha = 0.05\n",
    "if p > alpha:\n",
    "\tprint(f'\\tSample looks Gaussian (fail to reject H0)')\n",
    "else:\n",
    "\tprint(f'\\tSample does not look Gaussian (reject H0)')\n",
    "\n",
    "from scipy.stats import anderson\n",
    "# normality test\n",
    "result = anderson(error_stats)\n",
    "print('Anderson-Darling: Statistic= %.3f' % result.statistic)\n",
    "p = 0\n",
    "for i in range(len(result.critical_values)):\n",
    "    sl, cv = result.significance_level[i], result.critical_values[i]\n",
    "    if result.statistic < result.critical_values[i]:\n",
    "        print(f'\\t{sl:.3f} {cv:.3f}, data looks normal (fail to reject H0)' % (sl, cv))\n",
    "    else:\n",
    "        print(f'\\t{sl:.3f} {cv:.3f}, data does not look normal (reject H0)')"
   ]
  }
 ],
 "metadata": {
  "kernelspec": {
   "display_name": "Python 3",
   "language": "python",
   "name": "python3"
  },
  "language_info": {
   "codemirror_mode": {
    "name": "ipython",
    "version": 3
   },
   "file_extension": ".py",
   "mimetype": "text/x-python",
   "name": "python",
   "nbconvert_exporter": "python",
   "pygments_lexer": "ipython3",
   "version": "3.7.3"
  }
 },
 "nbformat": 4,
 "nbformat_minor": 4
}
