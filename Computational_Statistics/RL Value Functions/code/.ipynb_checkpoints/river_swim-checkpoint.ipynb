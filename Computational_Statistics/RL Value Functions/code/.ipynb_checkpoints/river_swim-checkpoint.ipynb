{
 "cells": [
  {
   "cell_type": "markdown",
   "metadata": {},
   "source": [
    "# State Value Functions for River Swim"
   ]
  },
  {
   "cell_type": "code",
   "execution_count": 1,
   "metadata": {},
   "outputs": [],
   "source": [
    "import numpy as np\n",
    "\n",
    "import matplotlib\n",
    "import matplotlib.pyplot as plt\n",
    "from matplotlib.table import Table\n",
    "\n",
    "matplotlib.use('Agg')"
   ]
  },
  {
   "cell_type": "code",
   "execution_count": 2,
   "metadata": {},
   "outputs": [],
   "source": [
    "# generate grid of environment with state values\n",
    "def draw_image(image):\n",
    "    fig, ax = plt.subplots()\n",
    "    ax.set_axis_off()\n",
    "    tb = Table(ax, bbox=[0, 0, .8, .8])\n",
    "\n",
    "    nrows, ncols = 1,image.shape[0]\n",
    "    width, height = 1.0 / ncols, 1.0 / nrows\n",
    "\n",
    "    # Add cells\n",
    "    for j, val in np.ndenumerate(image):\n",
    "        j = j[0]\n",
    "        # add state labels\n",
    "        if j == 0:\n",
    "            val = str(val) + \" (S)\"\n",
    "        elif j == (n-1):\n",
    "            val = str(val) + \" (L)\"\n",
    "        else:\n",
    "            val = str(val) + \" (N)\"\n",
    "        \n",
    "        tb.add_cell(0, j, width, height, text=val,\n",
    "                    loc='center', facecolor='white')\n",
    "        \n",
    "\n",
    "    # Row and column labels...\n",
    "    for i in range(len(image)):\n",
    "        tb.add_cell(-1, i, width, height/2, text=i, loc='center',\n",
    "                    edgecolor='none', facecolor='none')\n",
    "\n",
    "    ax.add_table(tb)\n",
    "\n",
    "# model the environment in step function\n",
    "def my_step(state, action, n, small, large):\n",
    "    assert action in [0,1,2]\n",
    "    assert state in range(n)\n",
    "    \n",
    "    actions = [(0,1),(1,0),(2,-1)] # (action, value) forward, stay, backward\n",
    "    results = []\n",
    "    \n",
    "    for a, s in actions:\n",
    "        if state == 0: # first state\n",
    "            if a == 2: # we will ignore with 0 ACTION_PROB\n",
    "                next_state = state\n",
    "                reward = small\n",
    "            elif a == 1:\n",
    "                next_state = state + s\n",
    "                reward = small\n",
    "            elif a == 0:\n",
    "                next_state = state + s\n",
    "                reward = 0\n",
    "            \n",
    "        elif state == n-1: # last state\n",
    "            if a == 0: # we will ignore with 0 ACTION_PROB\n",
    "                next_state = state\n",
    "                reward = large\n",
    "            elif a == 1:\n",
    "                next_state = state + s\n",
    "                reward = large\n",
    "            elif a == 2:\n",
    "                next_state = state + s\n",
    "                reward = 0\n",
    "\n",
    "        else: # middle state\n",
    "            next_state = state + s\n",
    "            if next_state == 0:\n",
    "                reward = small\n",
    "            elif next_state == n-1:\n",
    "                reward = large\n",
    "            else:\n",
    "                reward = 0\n",
    "        \n",
    "        results.append((a, next_state, reward))\n",
    "\n",
    "    return results"
   ]
  },
  {
   "cell_type": "code",
   "execution_count": 3,
   "metadata": {},
   "outputs": [],
   "source": [
    "n = 5\n",
    "nA = 3\n",
    "drift_backward = 0.05\n",
    "drift_forward = 0.35\n",
    "stay_in_place = 1 - (drift_backward + drift_forward)\n",
    "\n",
    "probs_start = [drift_forward + drift_backward, stay_in_place, 0]\n",
    "probs_mid = [drift_forward, stay_in_place, drift_backward]\n",
    "probs_end = [0, stay_in_place, drift_backward + drift_forward]\n",
    "\n",
    "small = 2\n",
    "large = 10\n",
    "\n",
    "DISCOUNT = 0.9\n",
    "\n",
    "desc = np.append(np.array([\"S\"]), np.append(np.array(['N'] * (n - 2)),np.array([\"L\"])))"
   ]
  },
  {
   "cell_type": "markdown",
   "metadata": {},
   "source": [
    "# State Value Function V(s)"
   ]
  },
  {
   "cell_type": "code",
   "execution_count": 7,
   "metadata": {
    "scrolled": true
   },
   "outputs": [
    {
     "name": "stdout",
     "output_type": "stream",
     "text": [
      "[0.49936182 0.07902224 0.22839677 1.77245849 2.69839819]\n"
     ]
    }
   ],
   "source": [
    "value = np.zeros(n)\n",
    "itera = 0\n",
    "while True:\n",
    "    itera += 1\n",
    "    new_value = np.zeros_like(value)\n",
    "    for i in range(n):\n",
    "        for action in range(nA):\n",
    "            if i == 0:\n",
    "                res = my_step(i, action, n, small, large)\n",
    "                new_value[i] = sum([(a[0] * (a[1][2] + DISCOUNT * value[a[1][1]])) for a in zip(probs_start,res)]) / nA\n",
    "            \n",
    "            elif i == n-1:\n",
    "                res = my_step(i, action, n, small, large)\n",
    "                new_value[i] = sum([(a[0] * (a[1][2] + DISCOUNT * value[a[1][1]])) for a in zip(probs_end,res)]) / nA\n",
    "            \n",
    "            else:\n",
    "                res = my_step(i, action, n, small, large)\n",
    "                new_value[i] = sum([(a[0] * (a[1][2] + DISCOUNT * value[a[1][1]])) for a in zip(probs_mid,res)]) / nA\n",
    "            \n",
    "    if np.sum(np.abs(value - new_value)) < 1e-4:\n",
    "        draw_image(np.round(new_value, decimals=2))\n",
    "        plt.savefig('../images/RS_figure_3_2.png')\n",
    "        plt.close()\n",
    "        break\n",
    "    value = new_value\n",
    "print(value)"
   ]
  },
  {
   "cell_type": "markdown",
   "metadata": {},
   "source": [
    "# Optimal Value Function"
   ]
  },
  {
   "cell_type": "code",
   "execution_count": 8,
   "metadata": {},
   "outputs": [
    {
     "name": "stdout",
     "output_type": "stream",
     "text": [
      "[0.49936182 0.07902224 0.22839677 1.77245849 2.69839819]\n"
     ]
    }
   ],
   "source": [
    "value = np.zeros(n)\n",
    "itera = 0\n",
    "while True:\n",
    "    itera += 1\n",
    "    new_value = np.zeros_like(value)\n",
    "    for i in range(n):\n",
    "        values = []\n",
    "        for action in range(nA):\n",
    "            if i == 0:\n",
    "                res = my_step(i, action, n, small, large)\n",
    "                val = sum([(a[0] * (a[1][2] + DISCOUNT * value[a[1][1]])) for a in zip(probs_start,res)]) / nA\n",
    "            elif i == n-1:\n",
    "                res = my_step(i, action, n, small, large)\n",
    "                val = sum([(a[0] * (a[1][2] + DISCOUNT * value[a[1][1]])) for a in zip(probs_end,res)]) / nA\n",
    "            else:\n",
    "                res = my_step(i, action, n, small, large)\n",
    "                val = sum([(a[0] * (a[1][2] + DISCOUNT * value[a[1][1]])) for a in zip(probs_mid,res)]) / nA\n",
    "            \n",
    "            values.append(val)\n",
    "            \n",
    "        new_value[i] = np.max(values)\n",
    "    if np.sum(np.abs(value - new_value)) < 1e-4:\n",
    "        draw_image(np.round(new_value, decimals=2))\n",
    "        plt.savefig('../images/RS_figure_3_5.png')\n",
    "        plt.close()\n",
    "        break\n",
    "    value = new_value\n",
    "print(value)"
   ]
  }
 ],
 "metadata": {
  "kernelspec": {
   "display_name": "Python 3",
   "language": "python",
   "name": "python3"
  },
  "language_info": {
   "codemirror_mode": {
    "name": "ipython",
    "version": 3
   },
   "file_extension": ".py",
   "mimetype": "text/x-python",
   "name": "python",
   "nbconvert_exporter": "python",
   "pygments_lexer": "ipython3",
   "version": "3.8.5"
  }
 },
 "nbformat": 4,
 "nbformat_minor": 4
}
