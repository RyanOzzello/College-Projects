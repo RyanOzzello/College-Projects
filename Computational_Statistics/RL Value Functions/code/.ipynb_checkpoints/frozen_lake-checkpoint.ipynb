{
 "cells": [
  {
   "cell_type": "markdown",
   "metadata": {},
   "source": [
    "# State Value Functions for Frozen Lake"
   ]
  },
  {
   "cell_type": "code",
   "execution_count": 1,
   "metadata": {},
   "outputs": [],
   "source": [
    "import gym\n",
    "import numpy as np\n",
    "\n",
    "import matplotlib\n",
    "import matplotlib.pyplot as plt\n",
    "from matplotlib.table import Table\n",
    "\n",
    "matplotlib.use('Agg')"
   ]
  },
  {
   "cell_type": "code",
   "execution_count": 2,
   "metadata": {},
   "outputs": [],
   "source": [
    "# generate grid of environment with state values\n",
    "def draw_image(image, desc):\n",
    "    fig, ax = plt.subplots()\n",
    "    ax.set_axis_off()\n",
    "    tb = Table(ax, bbox=[0, 0, 1, 1])\n",
    "\n",
    "    nrows, ncols = image.shape\n",
    "    width, height = 1.0 / ncols, 1.0 / nrows\n",
    "    \n",
    "    # Add cells\n",
    "    for (i, j), val in np.ndenumerate(image):\n",
    "\n",
    "        # add state labels\n",
    "        if desc[i, j] == 'S':\n",
    "            val = str(val) + \" (S)\"\n",
    "        if desc[i, j] == 'F':\n",
    "            val = str(val) + \" (F')\"\n",
    "        if desc[i, j] == 'H':\n",
    "            val = str(val) + \" (H)\"\n",
    "        if desc[i, j] == 'G':\n",
    "            val = str(val) + \" (G')\"\n",
    "        \n",
    "        tb.add_cell(i, j, width, height, text=val,\n",
    "                    loc='center', facecolor='white')\n",
    "        \n",
    "\n",
    "    # Row and column labels...\n",
    "    for i in range(len(image)):\n",
    "        tb.add_cell(i, -1, width, height, text=i+1, loc='right',\n",
    "                    edgecolor='none', facecolor='none')\n",
    "        tb.add_cell(-1, i, width, height/2, text=i+1, loc='center',\n",
    "                    edgecolor='none', facecolor='none')\n",
    "\n",
    "    ax.add_table(tb)"
   ]
  },
  {
   "cell_type": "code",
   "execution_count": 3,
   "metadata": {},
   "outputs": [],
   "source": [
    "DISCOUNT = 0.99\n",
    "env = gym.make('FrozenLake-v0')\n",
    "desc = env.desc\n",
    "\n",
    "# make env description string\n",
    "def decode(a):\n",
    "    return a.decode(\"utf-8\")\n",
    "desc = np.reshape(np.array(list(map(decode, desc.flatten()))), env.desc.shape)\n",
    "\n",
    "# turn state 0-15 into row-column position\n",
    "def state_to_index(s, ncol):\n",
    "    i, j = s // ncol, s % ncol\n",
    "    return i, j\n",
    "# turn row-column position into 0-15 state\n",
    "def index_to_state(row, col, ncol):\n",
    "    return row*ncol + col"
   ]
  },
  {
   "cell_type": "markdown",
   "metadata": {},
   "source": [
    "# State Values Function V(s)"
   ]
  },
  {
   "cell_type": "code",
   "execution_count": 4,
   "metadata": {
    "scrolled": true
   },
   "outputs": [
    {
     "name": "stdout",
     "output_type": "stream",
     "text": [
      "[[0.01225205 0.01035079 0.01927327 0.00942753]\n",
      " [0.01472573 0.         0.03886867 0.        ]\n",
      " [0.03256587 0.08431524 0.13779117 0.        ]\n",
      " [0.         0.17032773 0.43356318 0.        ]]\n"
     ]
    }
   ],
   "source": [
    "env.reset()\n",
    "\n",
    "value = np.zeros((env.nrow, env.ncol))\n",
    "itera = 0\n",
    "while True:\n",
    "    # keep iteration until convergence\n",
    "    new_value = np.zeros_like(value)\n",
    "    for i in range(env.nrow):\n",
    "        for j in range(env.ncol):\n",
    "            for action in range(env.env.nA):\n",
    "                state = index_to_state(i,j,env.ncol)\n",
    "                action_results = env.env.P[state][action]\n",
    "                # average expected value for taking each action in state\n",
    "                # result[0] = probability of taking the action\n",
    "                # result[1] = next state\n",
    "                # result[2] = reward (0 or 1)\n",
    "                new_val = sum([result[0] * (result[2] + DISCOUNT * value[state_to_index(result[1], env.ncol)[0], state_to_index(result[1], env.ncol)[1]]) for result in action_results])\n",
    "                new_value[i, j] += (1/env.env.nA) * new_val\n",
    "\n",
    "    itera += 1\n",
    "    if np.sum(np.abs(value - new_value)) < 1e-4:\n",
    "        draw_image(np.round(new_value, decimals=2), desc)\n",
    "        plt.savefig('../images/FL_figure_3_2.png')\n",
    "        plt.close()\n",
    "        break\n",
    "    value = new_value\n",
    "print(value)"
   ]
  },
  {
   "cell_type": "markdown",
   "metadata": {},
   "source": [
    "# Optimal Value Function"
   ]
  },
  {
   "cell_type": "code",
   "execution_count": 5,
   "metadata": {},
   "outputs": [
    {
     "name": "stdout",
     "output_type": "stream",
     "text": [
      "[[0.54172703 0.49840409 0.47022545 0.45634454]\n",
      " [0.55817381 0.         0.35813435 0.        ]\n",
      " [0.59156353 0.64290366 0.61505219 0.        ]\n",
      " [0.         0.74159535 0.86277252 0.        ]]\n"
     ]
    }
   ],
   "source": [
    "env.reset()\n",
    "\n",
    "value = np.zeros((env.nrow, env.ncol))\n",
    "itera = 0\n",
    "while True:\n",
    "    # keep iteration until convergence\n",
    "    new_value = np.zeros_like(value)\n",
    "    for i in range(env.nrow):\n",
    "        for j in range(env.ncol):\n",
    "            values = []\n",
    "            for action in range(env.env.nA):\n",
    "                state = index_to_state(i,j,env.ncol)\n",
    "                action_results = env.env.P[state][action]\n",
    "                # average expected value for taking each action in state\n",
    "                values.append(sum([result[0] * (result[2] + DISCOUNT * value[state_to_index(result[1], env.ncol)[0], state_to_index(result[1], env.ncol)[1]]) for result in action_results]))\n",
    "                new_value[i, j] = np.max(values)\n",
    "\n",
    "    itera += 1\n",
    "    if np.sum(np.abs(value - new_value)) < 1e-4:\n",
    "        draw_image(np.round(new_value, decimals=2), desc)\n",
    "        plt.savefig('../images/FL_figure_3_5.png')\n",
    "        plt.close()\n",
    "        break\n",
    "    value = new_value\n",
    "print(value)"
   ]
  }
 ],
 "metadata": {
  "kernelspec": {
   "display_name": "Python 3",
   "language": "python",
   "name": "python3"
  },
  "language_info": {
   "codemirror_mode": {
    "name": "ipython",
    "version": 3
   },
   "file_extension": ".py",
   "mimetype": "text/x-python",
   "name": "python",
   "nbconvert_exporter": "python",
   "pygments_lexer": "ipython3",
   "version": "3.7.3"
  }
 },
 "nbformat": 4,
 "nbformat_minor": 4
}
