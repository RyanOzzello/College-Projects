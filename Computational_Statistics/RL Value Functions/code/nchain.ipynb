{
 "cells": [
  {
   "cell_type": "markdown",
   "metadata": {},
   "source": [
    "# State Value Functions for NChain"
   ]
  },
  {
   "cell_type": "code",
   "execution_count": 1,
   "metadata": {},
   "outputs": [],
   "source": [
    "import numpy as np\n",
    "\n",
    "import matplotlib\n",
    "import matplotlib.pyplot as plt\n",
    "from matplotlib.table import Table\n",
    "\n",
    "matplotlib.use('Agg')"
   ]
  },
  {
   "cell_type": "code",
   "execution_count": 2,
   "metadata": {},
   "outputs": [],
   "source": [
    "# generate grid of environment with state values\n",
    "def draw_image(image):\n",
    "    fig, ax = plt.subplots()\n",
    "    ax.set_axis_off()\n",
    "    tb = Table(ax, bbox=[0, 0, .8, .8])\n",
    "\n",
    "    nrows, ncols = 1,image.shape[0]\n",
    "    width, height = 1.0 / ncols, 1.0 / nrows\n",
    "\n",
    "    # Add cells\n",
    "    for j, val in np.ndenumerate(image):\n",
    "        j = j[0]\n",
    "        # add state labels\n",
    "        if j == 0:\n",
    "            val = str(val) + \" (S)\"\n",
    "        elif j == (n-1):\n",
    "            val = str(val) + \" (L)\"\n",
    "        else:\n",
    "            val = str(val) + \" (N)\"\n",
    "        \n",
    "        tb.add_cell(0, j, width, height, text=val,\n",
    "                    loc='center', facecolor='white')\n",
    "        \n",
    "\n",
    "    # Row and column labels...\n",
    "    for i in range(len(image)):\n",
    "        tb.add_cell(-1, i, width, height/2, text=i, loc='center',\n",
    "                    edgecolor='none', facecolor='none')\n",
    "\n",
    "    ax.add_table(tb)\n",
    "\n",
    "# model the environment in step function\n",
    "def my_step(state, action, n, small, large):\n",
    "    assert action in [0,1]\n",
    "    assert state in range(n)\n",
    "    \n",
    "    slip_action = not action  # agent slipped, reverse action taken\n",
    "    # action\n",
    "    if action:  # 'backwards': go back to the beginning, get small reward\n",
    "        reward = small\n",
    "        next_state = 0\n",
    "    elif state < n - 1:  # 'forwards': go up along the chain\n",
    "        reward = 0\n",
    "        next_state = state + 1\n",
    "    else:  # 'forwards': stay at the end of the chain, collect large reward\n",
    "        reward = large\n",
    "        next_state = state\n",
    "    # slip action\n",
    "    if slip_action:  # 'backwards': go back to the beginning, get small reward\n",
    "        slip_reward = small\n",
    "        slip_next_state = 0\n",
    "    elif state < n - 1:  # 'forwards': go up along the chain\n",
    "        slip_reward = 0\n",
    "        slip_next_state = state + 1\n",
    "    else:  # 'forwards': stay at the end of the chain, collect large reward\n",
    "        slip_reward = large\n",
    "        slip_next_state = state\n",
    "\n",
    "    return next_state, reward, slip_next_state, slip_reward"
   ]
  },
  {
   "cell_type": "code",
   "execution_count": 3,
   "metadata": {},
   "outputs": [],
   "source": [
    "n = 5\n",
    "nA = 2\n",
    "slip = 0.2\n",
    "small = 2\n",
    "large = 10\n",
    "\n",
    "DISCOUNT = 0.9\n",
    "ACTION_PROB = 1 - slip\n",
    "\n",
    "desc = np.append(np.array([\"S\"]), np.append(np.array(['N'] * (n - 2)),np.array([\"L\"])))"
   ]
  },
  {
   "cell_type": "markdown",
   "metadata": {},
   "source": [
    "# State Value Function V(s)"
   ]
  },
  {
   "cell_type": "code",
   "execution_count": 4,
   "metadata": {
    "scrolled": true
   },
   "outputs": [
    {
     "name": "stdout",
     "output_type": "stream",
     "text": [
      "[2.81823692 2.87728592 3.09598592 3.90598592 6.90598592]\n"
     ]
    }
   ],
   "source": [
    "value = np.zeros(n)\n",
    "itera = 0\n",
    "while True:\n",
    "    # keep iteration until convergence\n",
    "    itera += 1\n",
    "    new_value = np.zeros_like(value)\n",
    "    for i in range(n):\n",
    "        for action in range(nA):\n",
    "            next_state, reward, slip_next_state, slip_reward = my_step(i, action, n, small, large)\n",
    "            new_value[i] += ACTION_PROB * (reward + DISCOUNT * value[next_state])\n",
    "            new_value[i] += slip * (slip_reward + DISCOUNT * value[slip_next_state])            \n",
    "            new_value[i] = new_value[i] / nA\n",
    "    if np.sum(np.abs(value - new_value)) < 1e-4:\n",
    "        draw_image(np.round(new_value, decimals=2))\n",
    "        plt.savefig('../images/NC_figure_3_2.png')\n",
    "        plt.close()\n",
    "        break\n",
    "    value = new_value\n",
    "print(value)"
   ]
  },
  {
   "cell_type": "markdown",
   "metadata": {},
   "source": [
    "# Optimal Value Function"
   ]
  },
  {
   "cell_type": "code",
   "execution_count": 5,
   "metadata": {},
   "outputs": [
    {
     "name": "stdout",
     "output_type": "stream",
     "text": [
      "[1.45610593 1.46577726 1.57323741 2.76724304 6.76724304]\n"
     ]
    }
   ],
   "source": [
    "value = np.zeros(n)\n",
    "itera = 0\n",
    "while True:\n",
    "    # keep iteration until convergence\n",
    "    itera += 1\n",
    "    new_value = np.zeros_like(value)\n",
    "    for i in range(n):\n",
    "        values = []\n",
    "        for action in range(nA):\n",
    "            next_state, reward, slip_next_state, slip_reward = my_step(i, action, n, small, large)\n",
    "            val = new_value[i] + ACTION_PROB * (reward + DISCOUNT * value[next_state])\n",
    "            val += new_value[i] + slip * (slip_reward + DISCOUNT * value[slip_next_state])            \n",
    "            val = val / nA\n",
    "            values.append(val)\n",
    "        new_value[i] = np.max(values)\n",
    "    if np.sum(np.abs(value - new_value)) < 1e-4:\n",
    "        draw_image(np.round(new_value, decimals=2))\n",
    "        plt.savefig('../images/NC_figure_3_5.png')\n",
    "        plt.close()\n",
    "        break\n",
    "    value = new_value\n",
    "print(value)"
   ]
  }
 ],
 "metadata": {
  "kernelspec": {
   "display_name": "Python 3",
   "language": "python",
   "name": "python3"
  },
  "language_info": {
   "codemirror_mode": {
    "name": "ipython",
    "version": 3
   },
   "file_extension": ".py",
   "mimetype": "text/x-python",
   "name": "python",
   "nbconvert_exporter": "python",
   "pygments_lexer": "ipython3",
   "version": "3.8.5"
  }
 },
 "nbformat": 4,
 "nbformat_minor": 4
}
